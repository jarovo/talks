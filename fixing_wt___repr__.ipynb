{
 "cells": [
  {
   "cell_type": "markdown",
   "metadata": {
    "slideshow": {
     "slide_type": "slide"
    }
   },
   "source": [
    "# A story of weird behavior of Widgetasitc."
   ]
  },
  {
   "cell_type": "markdown",
   "metadata": {
    "slideshow": {
     "slide_type": "slide"
    }
   },
   "source": [
    "## The traceback\n",
    "\n",
    "We got tracebacks like that:\n",
    "```\n",
    "--- Logging error ---\n",
    "Traceback (most recent call last):\n",
    "    \n",
    "...\n",
    "\n",
    "  File \"/home/jhenner/work/widgetastic.patternfly/src/widgetastic_patternfly/__init__.py\", line 348, in __repr__\n",
    "    return '{}({!r})'.format(type(self).__name__, self.locator)\n",
    "AttributeError: 'SettingsNavDropdown' object has no attribute 'locator'\n",
    "Call stack:\n",
    "\n",
    "...\n",
    "  \n",
    "  File \"/home/jhenner/work/miq/http_503_everywhere/.cfme_venv3/lib64/python3.7/site-packages/widgetastic/browser.py\", line 456, in move_to_element\n",
    "    self.logger.debug\n",
    "    ('move_to_element: %r', locator)\n",
    "Unable to print the message and arguments - possible formatting error.\n",
    "Use the traceback above to help find the error.\n",
    "```"
   ]
  },
  {
   "cell_type": "markdown",
   "metadata": {
    "slideshow": {
     "slide_type": "subslide"
    }
   },
   "source": [
    "# What is wrong?\n",
    "Well it takes some reading effort but the important is:\n",
    "\n",
    "```AttributeError: 'SettingsNavDropdown' object has no attribute 'locator'```"
   ]
  },
  {
   "cell_type": "markdown",
   "metadata": {
    "slideshow": {
     "slide_type": "fragment"
    }
   },
   "source": [
    " * The `SettingsNavDropdown` s a descendant of `widgetastic_patternfly.NavDropdown`.\n",
    " * It has no `__repr__` defined, so the `NavDropdown` is what we should look at."
   ]
  },
  {
   "cell_type": "code",
   "execution_count": 1,
   "metadata": {
    "slideshow": {
     "slide_type": "subslide"
    }
   },
   "outputs": [
    {
     "data": {
      "text/plain": [
       "False"
      ]
     },
     "execution_count": 1,
     "metadata": {},
     "output_type": "execute_result"
    }
   ],
   "source": [
    "from widgetastic_patternfly import NavDropdown\n",
    "nav = NavDropdown()\n",
    "hasattr(nav, 'locator')"
   ]
  },
  {
   "cell_type": "markdown",
   "metadata": {
    "slideshow": {
     "slide_type": "fragment"
    }
   },
   "source": [
    "It trully seem to have no `locator`."
   ]
  },
  {
   "cell_type": "code",
   "execution_count": 2,
   "metadata": {
    "slideshow": {
     "slide_type": "subslide"
    }
   },
   "outputs": [
    {
     "data": {
      "text/plain": [
       "('NavDropdown()', 'NavDropdown()')"
      ]
     },
     "execution_count": 2,
     "metadata": {},
     "output_type": "execute_result"
    }
   ],
   "source": [
    "repr(NavDropdown()), str(NavDropdown())"
   ]
  },
  {
   "cell_type": "markdown",
   "metadata": {
    "slideshow": {
     "slide_type": "fragment"
    }
   },
   "source": [
    "But it stringified well. With both, `__repr__` and `__str__`"
   ]
  },
  {
   "cell_type": "code",
   "execution_count": 3,
   "metadata": {
    "slideshow": {
     "slide_type": "subslide"
    }
   },
   "outputs": [
    {
     "data": {
      "text/plain": [
       "<bound method WidgetDescriptor.__repr__ of NavDropdown()>"
      ]
     },
     "execution_count": 3,
     "metadata": {},
     "output_type": "execute_result"
    }
   ],
   "source": [
    "NavDropdown().__repr__"
   ]
  },
  {
   "cell_type": "markdown",
   "metadata": {
    "slideshow": {
     "slide_type": "fragment"
    }
   },
   "source": [
    "Hmm nothing specia... **wait what?! ... `WidgetDescriptor`**? I've just created **`NavDropDown`!** ... Or didn't I ?"
   ]
  },
  {
   "cell_type": "markdown",
   "metadata": {
    "slideshow": {
     "slide_type": "fragment"
    }
   },
   "source": [
    "I have checked the `NavDropdown` source. There was **nothing suspiccious** about it."
   ]
  },
  {
   "cell_type": "markdown",
   "metadata": {
    "slideshow": {
     "slide_type": "subslide"
    }
   },
   "source": [
    "Until I have seen:\n",
    "\n",
    "```python\n",
    "Init signature: Widget(*args, **kwargs)\n",
    "Source:        \n",
    "class Widget(object, metaclass=WidgetMetaclass):\n",
    "    \"\"\"Base class for all UI objects.\n",
    "\n",
    "    Does couple of things:\n",
    "\n",
    "        * Ensures it gets instantiated with a browser or another widget as parent. If you create an\n",
    "          instance in a class, it then creates a :py:class:`WidgetDescriptor` which is then invoked\n",
    "          on the instance and instantiates the widget with underlying browser.\n",
    "        * Implements some basic interface for all widgets.\n",
    "        \n",
    "    If you are inheriting from this class, you **MUST ALWAYS** ensure that the inherited class\n",
    "    has an init that always takes the ``parent`` as the first argument. You can do that on your\n",
    "    own, setting the parent as ``self.parent`` or you can do something like this:        \n",
    "    \n",
    "   .. code-block:: python\n",
    "\n",
    "        def __init__(self, parent, arg1, arg2, logger=None):\n",
    "            super(MyClass, self).__init__(parent, logger=logger)\n",
    "            # or if you have somehow complex inheritance ...\n",
    "            Widget.__init__(self, parent, logger=logger)\n",
    "\n",
    "```"
   ]
  },
  {
   "cell_type": "markdown",
   "metadata": {
    "slideshow": {
     "slide_type": "slide"
    }
   },
   "source": [
    "## The takeaways from the long text:\n",
    "* Well to get the real thing, I need to put it inside of other `Widget`/`View`."
   ]
  },
  {
   "cell_type": "code",
   "execution_count": 4,
   "metadata": {
    "slideshow": {
     "slide_type": "-"
    }
   },
   "outputs": [
    {
     "data": {
      "text/plain": [
       "widgetastic.widget.base.WidgetDescriptor"
      ]
     },
     "execution_count": 4,
     "metadata": {},
     "output_type": "execute_result"
    }
   ],
   "source": [
    "from widgetastic_patternfly import NavDropdown, View\n",
    "\n",
    "class MyView(View):\n",
    "    widget = NavDropdown()\n",
    "\n",
    "type(MyView.widget)"
   ]
  },
  {
   "cell_type": "markdown",
   "metadata": {
    "slideshow": {
     "slide_type": "fragment"
    }
   },
   "source": [
    " * **Perhaps** I need to instantiate the `View`\n",
    " * I found out I need an instance of `Browser` to instantiate the `View`\n",
    " * The `Browser` needed a Selenium... oh my....\n",
    " * but today I learned I can just use `MagicMock` istead of Selenum."
   ]
  },
  {
   "cell_type": "code",
   "execution_count": 5,
   "metadata": {
    "slideshow": {
     "slide_type": "subslide"
    }
   },
   "outputs": [
    {
     "data": {
      "text/plain": [
       "widgetastic_patternfly.NavDropdown"
      ]
     },
     "execution_count": 5,
     "metadata": {},
     "output_type": "execute_result"
    }
   ],
   "source": [
    "from widgetastic.browser import Browser\n",
    "from unittest.mock import MagicMock\n",
    "\n",
    "selenium_mock = MagicMock()\n",
    "view = MyView(Browser(selenium_mock))\n",
    "type(view.widget)"
   ]
  },
  {
   "cell_type": "markdown",
   "metadata": {
    "slideshow": {
     "slide_type": "fragment"
    }
   },
   "source": [
    "**Looks promissing!** We sucessfully created a real `NavDropdown`. Let's try it fails:"
   ]
  },
  {
   "cell_type": "markdown",
   "metadata": {
    "slideshow": {
     "slide_type": "fragment"
    }
   },
   "source": [
    "```python\n",
    "view.widget\n",
    "\n",
    "---------------------------------------------------------------------------\n",
    "AttributeError                            Traceback (most recent call last)\n",
    "\n",
    "~/work/types_talk/.venv/lib/python3.7/site-packages/widgetastic_patternfly/__init__.py in __repr__(self)\n",
    "    346 \n",
    "    347     def __repr__(self):\n",
    "--> 348         return '{}({!r})'.format(type(self).__name__, self.locator)\n",
    "    349 \n",
    "    350 \n",
    "\n",
    "AttributeError: 'NavDropdown' object has no attribute 'locator'\n",
    "```"
   ]
  },
  {
   "cell_type": "markdown",
   "metadata": {
    "slideshow": {
     "slide_type": "fragment"
    }
   },
   "source": [
    "**OMG! OMG! OMG! OMG! It did Fail**. Let's fix it using some mokey-patching."
   ]
  },
  {
   "cell_type": "code",
   "execution_count": 6,
   "metadata": {
    "slideshow": {
     "slide_type": "slide"
    }
   },
   "outputs": [
    {
     "data": {
      "text/plain": [
       "The fixed <class 'widgetastic_patternfly.NavDropdown'>"
      ]
     },
     "execution_count": 6,
     "metadata": {},
     "output_type": "execute_result"
    }
   ],
   "source": [
    "def __repr__(self):\n",
    "    return f'The fixed {self.__class__}'\n",
    "\n",
    "NavDropdown.__repr__ = __repr__\n",
    "\n",
    "class MyView(View):\n",
    "    widget = NavDropdown()\n",
    "\n",
    "view = MyView(Browser(MagicMock()))\n",
    "view.widget"
   ]
  },
  {
   "cell_type": "markdown",
   "metadata": {
    "slideshow": {
     "slide_type": "subslide"
    }
   },
   "source": [
    "## What is happening:\n",
    " * We already know the `Widget()` doesn't crate a object of class `Widget`, but a `WidgetDescriptor` object.\n",
    " * A descriptor is an object with a `__get__` method.\n",
    " * So the real `Widget` instantiation is delayed to the point of **accessing the `WidgetDescriptor` object inside of the `View` object**"
   ]
  },
  {
   "cell_type": "markdown",
   "metadata": {
    "slideshow": {
     "slide_type": "fragment"
    }
   },
   "source": [
    "I have got the\n",
    " * reproducer\n",
    " * the fix"
   ]
  },
  {
   "cell_type": "markdown",
   "metadata": {
    "slideshow": {
     "slide_type": "slide"
    }
   },
   "source": [
    "# Making a test for `__repr__`\n",
    " * There is **lots of `Widget` descendants** defined in the widgetastic_patternfly.\n",
    " * I should make a test the __str__ and __repr__ of all the classes the library exports.\n"
   ]
  },
  {
   "cell_type": "markdown",
   "metadata": {
    "slideshow": {
     "slide_type": "subslide"
    }
   },
   "source": [
    "I need something like this:\n",
    "\n",
    "```python\n",
    "from widgetastic_patternfly import View, Button, Kebab, Text, ...\n",
    "\n",
    "def test_str(browser):\n",
    "    class TestView(View):\n",
    "        any_button = Button()  # will pick up first button...\n",
    "        button1 = Button('Default Normal')\n",
    "        button2 = Button(title='noText', classes=[Button.PRIMARY])\n",
    "        kebab = Kebab(...)\n",
    "        text = Text(...)\n",
    "```"
   ]
  },
  {
   "cell_type": "markdown",
   "metadata": {
    "slideshow": {
     "slide_type": "fragment"
    }
   },
   "source": [
    "```python\n",
    "    view = TestView(browser)\n",
    "    for widget in view.any_button, view.button1, view.button2, ...:\n",
    "        assert type(str(widget)) is str\n",
    "```"
   ]
  },
  {
   "cell_type": "markdown",
   "metadata": {
    "slideshow": {
     "slide_type": "subslide"
    }
   },
   "source": [
    " but better\n",
    "\n",
    " * there was **no guarantee that newly defined class will get tested**\n",
    " * easy to miss something.\n",
    " * sore fingers from typing this for 40 objects"
   ]
  },
  {
   "cell_type": "markdown",
   "metadata": {
    "slideshow": {
     "slide_type": "slide"
    }
   },
   "source": [
    " # Defining a class/type in run-time"
   ]
  },
  {
   "cell_type": "markdown",
   "metadata": {
    "slideshow": {
     "slide_type": "fragment"
    }
   },
   "source": [
    " Lets't take a look how can we do this using namespaces:"
   ]
  },
  {
   "cell_type": "code",
   "execution_count": 7,
   "metadata": {
    "slideshow": {
     "slide_type": "fragment"
    }
   },
   "outputs": [],
   "source": [
    "def make_me_a_class(bases=tuple(), kw={}):\n",
    "    class InnerClass(*bases, **kw):\n",
    "        some_attribute = \"attribute_value\"\n",
    "    # We can just set the attrs with setattr dynamically...\n",
    "    return InnerClass\n",
    "\n",
    "OrdinaryType = make_me_a_class((View,))"
   ]
  },
  {
   "cell_type": "markdown",
   "metadata": {
    "slideshow": {
     "slide_type": "fragment"
    }
   },
   "source": [
    "We just created a type/class well let's say **in running-time** of the program\n"
   ]
  },
  {
   "cell_type": "markdown",
   "metadata": {
    "slideshow": {
     "slide_type": "subslide"
    }
   },
   "source": [
    "Bit more functional way to do this is using the `type` **metaclass**"
   ]
  },
  {
   "cell_type": "code",
   "execution_count": 8,
   "metadata": {
    "slideshow": {
     "slide_type": "-"
    }
   },
   "outputs": [
    {
     "data": {
      "text/plain": [
       "widgetastic.widget.base.TheTestView"
      ]
     },
     "execution_count": 8,
     "metadata": {},
     "output_type": "execute_result"
    }
   ],
   "source": [
    "DynamicType = type('TheTestView',\n",
    "                   (View,),\n",
    "                   dict(some_attribute=\"attribute value\"))\n",
    "DynamicType"
   ]
  },
  {
   "cell_type": "markdown",
   "metadata": {
    "slideshow": {
     "slide_type": "fragment"
    }
   },
   "source": [
    "Or using the `types` module"
   ]
  },
  {
   "cell_type": "code",
   "execution_count": 9,
   "metadata": {
    "slideshow": {
     "slide_type": "fragment"
    }
   },
   "outputs": [
    {
     "data": {
      "text/plain": [
       "widgetastic.widget.base.TypesTestClass"
      ]
     },
     "execution_count": 9,
     "metadata": {},
     "output_type": "execute_result"
    }
   ],
   "source": [
    "import types\n",
    "\n",
    "TypesType = types.new_class(\"TypesTestClass\",\n",
    "                            bases=(View,),\n",
    "                            kwds=None,\n",
    "                            exec_body=lambda ns: ns.update(dict(some_attribute=\"attribute_value\")))\n",
    "TypesType"
   ]
  },
  {
   "cell_type": "markdown",
   "metadata": {
    "slideshow": {
     "slide_type": "subslide"
    }
   },
   "source": [
    "So there are **three ways** to create a new type/class in Python. Are there equivalent?"
   ]
  },
  {
   "cell_type": "code",
   "execution_count": 10,
   "metadata": {},
   "outputs": [
    {
     "data": {
      "text/plain": [
       "('__main__', 'widgetastic.widget.base', 'widgetastic.widget.base')"
      ]
     },
     "execution_count": 10,
     "metadata": {},
     "output_type": "execute_result"
    }
   ],
   "source": [
    "OrdinaryType.__module__, DynamicType.__module__, TypesType.__module__"
   ]
  },
  {
   "cell_type": "markdown",
   "metadata": {
    "slideshow": {
     "slide_type": "fragment"
    }
   },
   "source": [
    " This is just a small difference of the behavior that could bite some day, but nothing too important. **Results can be pretty much the same**\n"
   ]
  },
  {
   "cell_type": "markdown",
   "metadata": {
    "slideshow": {
     "slide_type": "slide"
    }
   },
   "source": [
    "# Getting all the Widgets tested"
   ]
  },
  {
   "cell_type": "markdown",
   "metadata": {},
   "source": [
    "* First we need all the widgets. To do that, I used `inspect`.\n",
    "\n",
    "  "
   ]
  },
  {
   "cell_type": "code",
   "execution_count": 11,
   "metadata": {
    "slideshow": {
     "slide_type": "subslide"
    }
   },
   "outputs": [],
   "source": [
    "import widgetastic_patternfly as wp\n",
    "from widgetastic_patternfly import Widget\n",
    "from contextlib import suppress\n",
    "import inspect\n",
    "\n",
    "widget_classes = {\n",
    "    name: cls for name, cls\n",
    "    in inspect.getmembers(wp)\n",
    "    if inspect.isclass(cls) and issubclass(cls, Widget)  # Widget's descendants only. \n",
    "}"
   ]
  },
  {
   "cell_type": "markdown",
   "metadata": {
    "slideshow": {
     "slide_type": "subslide"
    }
   },
   "source": [
    "* Than we need to instantiate the `Widgets`. We need to have the parameters defined. I am showing just a subset."
   ]
  },
  {
   "cell_type": "code",
   "execution_count": 12,
   "metadata": {
    "slideshow": {
     "slide_type": "fragment"
    }
   },
   "outputs": [],
   "source": [
    "\n",
    "DUMMY = \"dummy\"\n",
    "\n",
    "# For each Widget, I predefined the values for it's __init__\n",
    "init_values = {\n",
    "    wp.AggregateStatusCard: dict(name=DUMMY),\n",
    "    wp.AggregateStatusMiniCard: dict(name=DUMMY, locator=DUMMY),\n",
    "    wp.BarChart: dict(id=DUMMY),\n",
    "    wp.BootstrapNav: dict(locator=DUMMY),\n",
    "    wp.NavDropdown: dict()\n",
    "}\n",
    "\n"
   ]
  },
  {
   "cell_type": "markdown",
   "metadata": {
    "slideshow": {
     "slide_type": "fragment"
    }
   },
   "source": [
    "When \"Instantiating the `Widgets`\" we get the `Descriptor`s."
   ]
  },
  {
   "cell_type": "code",
   "execution_count": 13,
   "metadata": {
    "slideshow": {
     "slide_type": "fragment"
    }
   },
   "outputs": [],
   "source": [
    "widget_descriptors = {\n",
    "    name: cls(**init_values.get(cls, {}))\n",
    "    for name, cls in widget_classes.items()\n",
    "}"
   ]
  },
  {
   "cell_type": "markdown",
   "metadata": {
    "slideshow": {
     "slide_type": "fragment"
    }
   },
   "source": [
    "  * We can then create the `View` filled with the `Descriptors`"
   ]
  },
  {
   "cell_type": "code",
   "execution_count": 14,
   "metadata": {
    "slideshow": {
     "slide_type": "subslide"
    }
   },
   "outputs": [],
   "source": [
    "TestView = type('TheTestView',\n",
    "                (View,),\n",
    "                widget_descriptors)\n",
    "\n",
    "the_view = TestView(Browser(MagicMock()))"
   ]
  },
  {
   "cell_type": "markdown",
   "metadata": {
    "slideshow": {
     "slide_type": "fragment"
    }
   },
   "source": [
    "To test they stringify well:"
   ]
  },
  {
   "cell_type": "code",
   "execution_count": 15,
   "metadata": {
    "slideshow": {
     "slide_type": "fragment"
    }
   },
   "outputs": [
    {
     "name": "stdout",
     "output_type": "stream",
     "text": [
      "<widgetastic_patternfly.AboutModal object at 0x7f91327ab190>\n",
      "<Accordion 'Accordion'>\n",
      "<widgetastic_patternfly.AggregateStatusCard object at 0x7f9132747070>\n",
      "<widgetastic_patternfly.AggregateStatusMiniCard object at 0x7f91327473a0>\n",
      "<widgetastic_patternfly.BarChart object at 0x7f9132747610>\n",
      "BaseInput(locator=None)\n",
      "BootstrapNav('dummy')\n",
      "<widgetastic_patternfly.BreadCrumb object at 0x7f913274b1f0>\n",
      "Button()\n",
      "<widgetastic.widget.base.ParametrizedViewRequest object at 0x7f9132747310>\n",
      "<widgetastic_patternfly.FlashMessages object at 0x7f913274b190>\n",
      "<TabWithDropdown 'Generictabwithdropdown'>\n",
      "Input(locator=None)\n",
      "<widgetastic_patternfly.ItemsList object at 0x7f913274bf40>\n",
      "<widgetastic.widget.base.ParametrizedViewRequest object at 0x7f91327504f0>\n",
      "<widgetastic_patternfly.Modal object at 0x7f9132750790>\n",
      "The fixed <class 'widgetastic_patternfly.NavDropdown'>\n",
      "<widgetastic.widget.base.ParametrizedViewRequest object at 0x7f9132750df0>\n",
      "<Tab 'Tab'>\n",
      "<TabWithDropdownDefault 'Tabwithdropdown'>\n",
      "TextInput(locator=None)\n",
      "<widgetastic.widget.base.View object at 0x7f9132755f40>\n",
      "<widgetastic.widget.base.Widget object at 0x7f9132758370>\n"
     ]
    }
   ],
   "source": [
    "for name in the_view.widget_names:\n",
    "    # Needed as not all the widgets are properly\n",
    "    # parametrized in this presentation.\n",
    "    with suppress(TypeError, ValueError, NameError): \n",
    "        print(getattr(the_view, name))\n",
    "        assert isinstance(widget, Widget)\n",
    "        print(str(widget))"
   ]
  },
  {
   "cell_type": "markdown",
   "metadata": {
    "slideshow": {
     "slide_type": "slide"
    }
   },
   "source": [
    "# That was basically it."
   ]
  }
 ],
 "metadata": {
  "celltoolbar": "Slideshow",
  "kernelspec": {
   "display_name": "Python 3",
   "language": "python",
   "name": "python3"
  },
  "language_info": {
   "codemirror_mode": {
    "name": "ipython",
    "version": 3
   },
   "file_extension": ".py",
   "mimetype": "text/x-python",
   "name": "python",
   "nbconvert_exporter": "python",
   "pygments_lexer": "ipython3",
   "version": "3.8.5"
  }
 },
 "nbformat": 4,
 "nbformat_minor": 2
}

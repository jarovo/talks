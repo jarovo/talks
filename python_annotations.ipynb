{
 "cells": [
  {
   "cell_type": "markdown",
   "metadata": {
    "slideshow": {
     "slide_type": "slide"
    }
   },
   "source": [
    "# Python Type Annotatios\n",
    "\n",
    " * Python now supports annotation the expected types."
   ]
  },
  {
   "cell_type": "markdown",
   "metadata": {
    "slideshow": {
     "slide_type": "fragment"
    }
   },
   "source": [
    "# What you will see\n",
    "* How it looks\n",
    "* What do you need for it\n",
    "* Real word experience\n",
    "* How can you start using it"
   ]
  },
  {
   "cell_type": "markdown",
   "metadata": {
    "slideshow": {
     "slide_type": "slide"
    }
   },
   "source": [
    "# Life without annotations."
   ]
  },
  {
   "cell_type": "code",
   "execution_count": 1,
   "metadata": {},
   "outputs": [],
   "source": [
    "def foo(a, b):\n",
    "    a += b\n",
    "    return a"
   ]
  },
  {
   "cell_type": "code",
   "execution_count": 2,
   "metadata": {},
   "outputs": [],
   "source": [
    "lines = [\"This time\"]\n",
    "var = \"correctly with comma\",\n",
    "\n",
    "foo(lines, var)"
   ]
  },
  {
   "cell_type": "markdown",
   "metadata": {
    "slideshow": {
     "slide_type": "fragment"
    }
   },
   "source": [
    "compare to"
   ]
  },
  {
   "cell_type": "code",
   "execution_count": 3,
   "metadata": {
    "slideshow": {
     "slide_type": "-"
    }
   },
   "outputs": [
    {
     "data": {
      "text/plain": [
       "['aaa', 'i', 'n', 'c', 'o', 'r', 'r', 'e', 'c', 't']"
      ]
     },
     "execution_count": 3,
     "metadata": {},
     "output_type": "execute_result"
    }
   ],
   "source": [
    "lines = [\"aaa\"]\n",
    "var = \"incorrect\"\n",
    "\n",
    "foo(lines, var)"
   ]
  },
  {
   "cell_type": "markdown",
   "metadata": {
    "slideshow": {
     "slide_type": "subslide"
    }
   },
   "source": [
    "## The joy of life with annotations\n",
    "\n",
    "```python\n",
    "from typing import List\n",
    "\n",
    "def foo(a: List[str], b: List[str]) -> List[str]:\n",
    "    a += b\n",
    "    return a\n",
    "\n",
    "foo([], \"\")\n",
    "```\n",
    "---    \n",
    "```python\n",
    "MyPy: error: Argument 2 to \"foo\" has incompatible type \"str\"; \n",
    "        expected \"List[str]\"\n",
    "```\n"
   ]
  },
  {
   "cell_type": "markdown",
   "metadata": {
    "slideshow": {
     "slide_type": "subslide"
    }
   },
   "source": [
    " * Note the code has not been executed. MyPy is static checker."
   ]
  },
  {
   "cell_type": "markdown",
   "metadata": {
    "slideshow": {
     "slide_type": "fragment"
    }
   },
   "source": [
    "* It can **today** show you a bug that otherwise could appear\n",
    "     * sporadically\n",
    "     * under certain circumstances"
   ]
  },
  {
   "cell_type": "markdown",
   "metadata": {
    "slideshow": {
     "slide_type": "fragment"
    }
   },
   "source": [
    " * Helps the editor with hinting"
   ]
  },
  {
   "cell_type": "markdown",
   "metadata": {
    "slideshow": {
     "slide_type": "fragment"
    }
   },
   "source": [
    "* Helps with doing refactoring in big projects."
   ]
  },
  {
   "cell_type": "markdown",
   "metadata": {
    "slideshow": {
     "slide_type": "slide"
    }
   },
   "source": [
    "# Some of the Checkers available\n",
    " * MyPy\n",
    "  * can check only annotated code\n",
    " * pytype\n",
    "  * Can infer the types\n",
    "  * Not good structural typing (Duck typing)\n",
    " * PyCharm\n",
    "  * there is a commandline only interface for it. Hidden a bit.\n",
    "  ```\n",
    "  $ pycharm.sh inspect . ~/.idea/inspectionProfiles/profiles_settings.xml results -format plain\n",
    "  ```\n",
    "  \n",
    " * pyre\n",
    " * ..."
   ]
  },
  {
   "cell_type": "markdown",
   "metadata": {
    "slideshow": {
     "slide_type": "subslide"
    }
   },
   "source": [
    "# Pycharm\n",
    "  * type infering -- for the hinting purposes it is really quite good\n"
   ]
  },
  {
   "cell_type": "markdown",
   "metadata": {
    "slideshow": {
     "slide_type": "fragment"
    }
   },
   "source": [
    "Hints for `Any` type\n",
    "![missing locator](pics/pycharm_any_hints.png \"No hints when using `Any`\")"
   ]
  },
  {
   "cell_type": "markdown",
   "metadata": {
    "slideshow": {
     "slide_type": "subslide"
    }
   },
   "source": [
    "Hints for List type\n",
    "![missing locator](pics/pycharm_list_hints.png \"No hints when using `Any`\")"
   ]
  },
  {
   "cell_type": "markdown",
   "metadata": {
    "slideshow": {
     "slide_type": "subslide"
    }
   },
   "source": [
    "## A real-world bug found.\n",
    "![missing locator](pics/missing_locator.png \"Missing locator\")"
   ]
  },
  {
   "cell_type": "markdown",
   "metadata": {
    "slideshow": {
     "slide_type": "subslide"
    }
   },
   "source": [
    "  * Not without problems though. I found:\n",
    "   * problem with inferring the retval type of `functools.partial` from the passed `Callable`\n",
    "   * *Descriptors* - objects with the `__get__` don't get the correct type when accessed as attribute. [BUG](https://youtrack.jetbrains.com/issue/PY-26184)"
   ]
  },
  {
   "cell_type": "markdown",
   "metadata": {
    "slideshow": {
     "slide_type": "subslide"
    }
   },
   "source": [
    "## The problem with the Descriptor object not getting correct type\n",
    "\n",
    "![pycharm_descriptors](pics/pycharm_descriptor_not_working.png \"Pycharm and descriptors\")"
   ]
  },
  {
   "cell_type": "markdown",
   "metadata": {
    "slideshow": {
     "slide_type": "fragment"
    }
   },
   "source": [
    "A workaround for this.\n",
    "![pycharm_descriptors_workaround](pics/pycharm_descriptor_sloppy_workaround.png \"Pycharm and descriptors workarond\")"
   ]
  },
  {
   "cell_type": "markdown",
   "metadata": {
    "slideshow": {
     "slide_type": "slide"
    }
   },
   "source": [
    "# The `typing` library\n",
    "\n",
    " * there are the buildins: `str`, `int`, `float`, `bytes`\n",
    " * Ther are many things already defined in `typing`:\n",
    "   * `Any` is the most permissive but ambiguous type.\n",
    "   * `Sequence`, `List`, ...\n",
    "   * `Dict`, `Mapping`, `MappingView`, ...\n",
    "   * `Union`, `Optional`, ...\n",
    "   * `Callable`, `Generator`, `AsyncGenerator`, ...\n",
    "   * `Type`\n",
    "   * ..."
   ]
  },
  {
   "cell_type": "markdown",
   "metadata": {
    "slideshow": {
     "slide_type": "slide"
    }
   },
   "source": [
    "# Some examples of how to annotate."
   ]
  },
  {
   "cell_type": "markdown",
   "metadata": {
    "slideshow": {
     "slide_type": "subslide"
    }
   },
   "source": [
    "## The Optional"
   ]
  },
  {
   "cell_type": "code",
   "execution_count": 4,
   "metadata": {
    "slideshow": {
     "slide_type": "fragment"
    }
   },
   "outputs": [
    {
     "name": "stdout",
     "output_type": "stream",
     "text": [
      "'NoneType' object has no attribute 'talk'\n"
     ]
    }
   ],
   "source": [
    "from typing import Optional\n",
    "\n",
    "class Duck: pass\n",
    "\n",
    "\n",
    "# Identical to\n",
    "#   deref_none(duck: Union[None, Duck]):\n",
    "\n",
    "def deref_none(duck: Optional[Duck]):\n",
    "    duck.talk()\n",
    "\n",
    "    \n",
    "try:\n",
    "    deref_none(None)\n",
    "except AttributeError as exc:\n",
    "    print(exc)"
   ]
  },
  {
   "cell_type": "markdown",
   "metadata": {
    "slideshow": {
     "slide_type": "subslide"
    }
   },
   "source": [
    "```\n",
    "$ mypy ducks.py\n",
    "ducks.py:48: error: Item \"None\" of \"Optional[Duck]\" has no attribute \"talk\"\n",
    "Found 1 error in 1 file (checked 1 source file)\n",
    "```"
   ]
  },
  {
   "cell_type": "markdown",
   "metadata": {
    "slideshow": {
     "slide_type": "fragment"
    }
   },
   "source": [
    "```\n",
    "$ pytype --protocols ducks.py\n",
    "...\n",
    "File \"/home/jhenner/work/types_talk/ducks.py\", line 48, in deref_none: No attribute 'talk' on None [attribute-error]\n",
    "  In Optional[Duck]\n",
    "\n",
    "For more details, see https://google.github.io/pytype/errors.html#attribute-error.\n",
    "ninja: build stopped: subcommand failed.\n",
    "```"
   ]
  },
  {
   "cell_type": "code",
   "execution_count": 5,
   "metadata": {
    "slideshow": {
     "slide_type": "fragment"
    }
   },
   "outputs": [],
   "source": [
    "def deref_none(duck: Optional[Duck]):\n",
    "    if duck is None:\n",
    "        return\n",
    "    duck.talk()"
   ]
  },
  {
   "cell_type": "markdown",
   "metadata": {},
   "source": [
    "It is fixed now.\n",
    " * Checker won't complain.\n",
    " * Code will not deref the `None` dereferencing here."
   ]
  },
  {
   "cell_type": "markdown",
   "metadata": {
    "slideshow": {
     "slide_type": "subslide"
    }
   },
   "source": [
    " * How many times did I see \n",
    "    * ```AttributeError: 'NoneType' object has no attribute [...]``` \n",
    "    * ```NoMethodError (undefined method [...] for nil:NilClass)```\n",
    "    * There is over 1000 hits on Bugzilla for each of them\n",
    " * I think static checkers pretty much sovles the curse of `null` / `Nil` / `None`.\n",
    "        "
   ]
  },
  {
   "cell_type": "markdown",
   "metadata": {
    "slideshow": {
     "slide_type": "subslide"
    }
   },
   "source": [
    "## The `TypeVar`"
   ]
  },
  {
   "cell_type": "code",
   "execution_count": 6,
   "metadata": {
    "slideshow": {
     "slide_type": "fragment"
    }
   },
   "outputs": [],
   "source": [
    "from typing import Sequence, TypeVar\n",
    "\n",
    "# Declare type variable\n",
    "T = TypeVar('T', int, float, str)\n",
    "\n",
    "def double(a: T) -> T:\n",
    "    return a * 2"
   ]
  },
  {
   "cell_type": "markdown",
   "metadata": {
    "slideshow": {
     "slide_type": "fragment"
    }
   },
   "source": [
    "this means that what your pass in is what you get out"
   ]
  },
  {
   "cell_type": "code",
   "execution_count": 7,
   "metadata": {
    "slideshow": {
     "slide_type": "fragment"
    }
   },
   "outputs": [],
   "source": [
    "T = TypeVar('T')\n",
    "def first(l: Sequence[T]) -> T:   # Generic function\n",
    "    return l[0] "
   ]
  },
  {
   "cell_type": "markdown",
   "metadata": {
    "slideshow": {
     "slide_type": "subslide"
    }
   },
   "source": [
    "## Some kind of container for thing of a kind.\n",
    "*Pun intended*"
   ]
  },
  {
   "cell_type": "code",
   "execution_count": 8,
   "metadata": {
    "slideshow": {
     "slide_type": "fragment"
    }
   },
   "outputs": [
    {
     "data": {
      "text/plain": [
       "3"
      ]
     },
     "execution_count": 8,
     "metadata": {},
     "output_type": "execute_result"
    }
   ],
   "source": [
    "from typing import TypeVar, Generic\n",
    "\n",
    "T = TypeVar('T')\n",
    "\n",
    "class Box(Generic[T]):\n",
    "    def __init__(self, value: T) -> None:\n",
    "        self.value = value\n",
    "\n",
    "    def get(self) -> T:\n",
    "        return self.value\n",
    "\n",
    "box = Box(3)  # The type of box is now Box[int]\n",
    "\n",
    "box.get()     # The type of result is int. The value of T is bound by the call to the Box class"
   ]
  },
  {
   "cell_type": "markdown",
   "metadata": {
    "slideshow": {
     "slide_type": "subslide"
    }
   },
   "source": [
    "## Defining a variable to hold a callable"
   ]
  },
  {
   "cell_type": "code",
   "execution_count": 9,
   "metadata": {
    "slideshow": {
     "slide_type": "fragment"
    }
   },
   "outputs": [],
   "source": [
    "from typing import Callable\n",
    "\n",
    "a_call: Callable[[int, str], float]\n",
    "\n",
    "def the_func(arg: int, str) -> float:\n",
    "    return 1. * arg\n",
    "    \n",
    "a_call = the_func \n",
    "f:float = a_call(1, \"\")"
   ]
  },
  {
   "cell_type": "markdown",
   "metadata": {
    "slideshow": {
     "slide_type": "subslide"
    }
   },
   "source": [
    "A factory.\n",
    " * Note the `cls: Type[T]` means `cls` will contain **the type** `T` (some class)\n",
    " * Contrary: `some_object: T` would denote the `some_object` **is of type `T`**"
   ]
  },
  {
   "cell_type": "code",
   "execution_count": 10,
   "metadata": {
    "slideshow": {
     "slide_type": "fragment"
    }
   },
   "outputs": [],
   "source": [
    "from typing import Generic, T, Type, List\n",
    "\n",
    "class Factory(Generic[T]):\n",
    "    def __init__(self, cls: Type[T], *args, **kwargs):\n",
    "        self.cls = cls\n",
    "        self.args = args\n",
    "        self.kwargs = kwargs\n",
    "        \n",
    "    def __call__(self) -> T:\n",
    "        return self.cls(*self.args, **self.kwargs)\n",
    "    \n",
    "i: List[int] = Factory(list, (1,))()"
   ]
  },
  {
   "cell_type": "markdown",
   "metadata": {
    "slideshow": {
     "slide_type": "subslide"
    }
   },
   "source": [
    "## Duck typing\n",
    "\n",
    " * If it walks like a duck and it quacks like a duck, then it must be a duck.\n",
    " * there are Protocols that allow the *duck typing*"
   ]
  },
  {
   "cell_type": "markdown",
   "metadata": {
    "slideshow": {
     "slide_type": "fragment"
    }
   },
   "source": [
    "* We will make really unrealated classes: `Duck` and `Lure`... and a `BrokenDuck`.\n",
    "* Let's define a `Qack` and somewhat related `LureQuack`"
   ]
  },
  {
   "cell_type": "code",
   "execution_count": 11,
   "metadata": {
    "slideshow": {
     "slide_type": "subslide"
    }
   },
   "outputs": [],
   "source": [
    "from typing import Protocol\n",
    "from abc import abstractmethod, ABCMeta\n",
    "\n",
    "\n",
    "class Quack:\n",
    "    def __init__(self, sound_level: int):\n",
    "        self.sound_level = sound_level\n",
    "\n",
    "\n",
    "class LureQuack(Quack):\n",
    "    pass\n"
   ]
  },
  {
   "cell_type": "markdown",
   "metadata": {
    "slideshow": {
     "slide_type": "subslide"
    }
   },
   "source": [
    "Now let's define the Duck and Lure and Something that isn't working as a Duck for us."
   ]
  },
  {
   "cell_type": "code",
   "execution_count": 12,
   "metadata": {
    "slideshow": {
     "slide_type": "fragment"
    }
   },
   "outputs": [],
   "source": [
    "# Note: no explicit inheritance from the CanQuack protocol.\n",
    "\n",
    "class Duck:\n",
    "    sound_level = 1\n",
    "\n",
    "    def talk(self) -> Quack:\n",
    "        return Quack(self.sound_level)\n",
    "\n",
    "\n",
    "class Lure:\n",
    "    sound_level = 100\n",
    "\n",
    "    def talk(self) -> LureQuack:\n",
    "        return LureQuack(self.sound_level)"
   ]
  },
  {
   "cell_type": "markdown",
   "metadata": {
    "slideshow": {
     "slide_type": "subslide"
    }
   },
   "source": [
    "* We want to be able to use the same callable for the `Duck` and `Lure`."
   ]
  },
  {
   "cell_type": "code",
   "execution_count": 13,
   "metadata": {
    "slideshow": {
     "slide_type": "fragment"
    }
   },
   "outputs": [],
   "source": [
    "# ABCMeta needed for PyType https://github.com/google/pytype/issues/214\n",
    "class CanQuack(Protocol):\n",
    "    sound_level: int\n",
    "\n",
    "    def talk(self) -> Quack: ...\n",
    "        \n",
    "\n",
    "def use_as_duck(duck: CanQuack):\n",
    "    return duck.talk()"
   ]
  },
  {
   "cell_type": "code",
   "execution_count": 14,
   "metadata": {
    "slideshow": {
     "slide_type": "subslide"
    }
   },
   "outputs": [
    {
     "data": {
      "text/plain": [
       "<object at 0x7fa124561110>"
      ]
     },
     "execution_count": 14,
     "metadata": {},
     "output_type": "execute_result"
    }
   ],
   "source": [
    "class BrokenDuck:\n",
    "    sound_level = 0\n",
    "\n",
    "    def talk(self) -> object:  # Note: Doesn't return Quack\n",
    "        return object()\n",
    "\n",
    "\n",
    "def use_as_duck(duck: CanQuack):\n",
    "    return duck.talk()\n",
    "\n",
    "use_as_duck(Duck())        # Passes typecheck\n",
    "use_as_duck(Lure())        # Passes typecheck\n",
    "use_as_duck(BrokenDuck())  # This should fail on typechecking. No problem in runtime though."
   ]
  },
  {
   "cell_type": "markdown",
   "metadata": {
    "slideshow": {
     "slide_type": "fragment"
    }
   },
   "source": [
    "```\n",
    "$ mypy ducks.py\n",
    "ducks.py:49: error: Argument 1 to \"use_as_duck\" has incompatible type \"BrokenDuck\"; expected \"CanQuack\"\n",
    "ducks.py:49: note: Following member(s) of \"BrokenDuck\" have conflicts:\n",
    "ducks.py:49: note:     Expected:\n",
    "ducks.py:49: note:         def talk(self) -> Quack\n",
    "ducks.py:49: note:     Got:\n",
    "ducks.py:49: note:         def talk(self) -> object\n",
    "Found 1 error in 1 file (checked 1 source file)\n",
    "```"
   ]
  },
  {
   "cell_type": "markdown",
   "metadata": {
    "slideshow": {
     "slide_type": "fragment"
    }
   },
   "source": [
    "```\n",
    "$ pytype --protocols ducks.py\n",
    "Computing dependencies\n",
    "Analyzing 1 sources with 0 local dependencies\n",
    "ninja: Entering directory `/home/jhenner/work/types_talk/.pytype'\n",
    "[1/1] check ducks\n",
    "Success: no errors found\n",
    "```"
   ]
  },
  {
   "cell_type": "markdown",
   "metadata": {
    "slideshow": {
     "slide_type": "subslide"
    }
   },
   "source": [
    "Why not to use the *nominal inheritance* (Interfaces)?\n",
    " * You can still subclass a protocol. You dont't need to though...\n",
    " * The `Duck` can be defined in library that you don't own. The `Duck` doesn't really need to have a clue about existance of that protocol in it's definition time."
   ]
  },
  {
   "cell_type": "markdown",
   "metadata": {
    "slideshow": {
     "slide_type": "slide"
    }
   },
   "source": [
    "# Gradual addition of type annotations\n"
   ]
  },
  {
   "cell_type": "markdown",
   "metadata": {
    "slideshow": {
     "slide_type": "fragment"
    }
   },
   "source": [
    " * Allows existing projects to adopt typing"
   ]
  },
  {
   "cell_type": "markdown",
   "metadata": {
    "slideshow": {
     "slide_type": "fragment"
    }
   },
   "source": [
    " * The `*.pyi` stubfiles\n",
    "  * like `*.h` files known from C.\n",
    "  * Just defining the \"interfaces\". No real code.\n",
    "  * Can be generated or (perhaps also with infering) using **pytype** or **stubgen**\n",
    "  * Can be merged into the \".py\" files."
   ]
  },
  {
   "cell_type": "markdown",
   "metadata": {
    "slideshow": {
     "slide_type": "fragment"
    }
   },
   "source": [
    " * The marker file `py.typed` is distributed in python packages to note the package is annotated.\n",
    "  * MyPy will not load the types from it otherwise"
   ]
  },
  {
   "cell_type": "markdown",
   "metadata": {
    "slideshow": {
     "slide_type": "subslide"
    }
   },
   "source": [
    "## Gradual typing annotations with Mypy\n",
    "\n",
    "precommit selecting specific files:\n",
    "\n",
    "*.pre-commit-config.yaml*\n",
    "\n",
    "```yaml\n",
    "- repo: https://github.com/pre-commit/mirrors-mypy\n",
    "  rev: v0.782\n",
    "  hooks:\n",
    "  - id: mypy\n",
    "    files: cfme/utils/appliance\n",
    "```\n",
    "\n",
    "*.mypy.ini*\n",
    "```ini\n",
    "[mypy]\n",
    "ignore_missing_imports = True\n",
    "follow_imports = skip\n",
    "```\n"
   ]
  },
  {
   "cell_type": "markdown",
   "metadata": {
    "slideshow": {
     "slide_type": "subslide"
    }
   },
   "source": [
    "# The Takeaways\n",
    " * Well the developer **need to learn yet another thing**. It does take a time and effort.\n",
    " * It allows put the **thinking about the types** *on the paper* and have the code checked.\n",
    " * It certainly **does prevent some bugs**\n",
    " * Just add a check of some basic parts of your projects and have them ran for each PR request.\n",
    " "
   ]
  },
  {
   "cell_type": "markdown",
   "metadata": {
    "slideshow": {
     "slide_type": "slide"
    }
   },
   "source": [
    "# References\n",
    " * [PEP 483 - The theory of type hints](https://www.python.org/dev/peps/pep-0483)\n",
    " * [PEP 484 - The type hints](https://www.python.org/dev/peps/pep-0484/)\n",
    " * [Python typing library docs](https://docs.python.org/3/library/typing.html)\n"
   ]
  },
  {
   "cell_type": "markdown",
   "metadata": {
    "slideshow": {
     "slide_type": "slide"
    }
   },
   "source": [
    "\n",
    "# A bonus: Annotations usage in runtime."
   ]
  },
  {
   "cell_type": "code",
   "execution_count": 15,
   "metadata": {
    "slideshow": {
     "slide_type": "fragment"
    }
   },
   "outputs": [
    {
     "data": {
      "text/plain": [
       "(mappingproxy({'a': <Parameter \"a: str\">,\n",
       "               'b': <Parameter \"b: Dict[str, Union[float, int]] = {}\">}),\n",
       " int)"
      ]
     },
     "execution_count": 15,
     "metadata": {},
     "output_type": "execute_result"
    }
   ],
   "source": [
    "import inspect\n",
    "from typing import Dict, List, Union\n",
    "\n",
    "def foo(a: str, b:Dict[str, Union[float, int]]={}) -> int: pass\n",
    "\n",
    "sig = inspect.signature(foo)\n",
    "sig.parameters, sig.return_annotation"
   ]
  },
  {
   "cell_type": "code",
   "execution_count": 16,
   "metadata": {
    "slideshow": {
     "slide_type": "fragment"
    }
   },
   "outputs": [
    {
     "data": {
      "text/plain": [
       "(str, typing.Union[float, int])"
      ]
     },
     "execution_count": 16,
     "metadata": {},
     "output_type": "execute_result"
    }
   ],
   "source": [
    "try:\n",
    "    from typing import get_args\n",
    "except ImportError:\n",
    "    print(\"Old Python\")\n",
    "    def get_args(t):\n",
    "        return t.__args__\n",
    "\n",
    "\n",
    "get_args(sig.parameters['b'].annotation)"
   ]
  },
  {
   "cell_type": "code",
   "execution_count": 17,
   "metadata": {
    "slideshow": {
     "slide_type": "notes"
    }
   },
   "outputs": [
    {
     "data": {
      "text/plain": [
       "((~T, NoneType), (~T,))"
      ]
     },
     "execution_count": 17,
     "metadata": {},
     "output_type": "execute_result"
    }
   ],
   "source": [
    "from typing import Dict, TypeVar, T, Optional\n",
    "\n",
    "def foo(a: Optional[T]) -> T: pass\n",
    "a_annots = inspect.signature(foo).parameters['a'].annotation\n",
    "a_annots.__args__, a_annots.__parameters__"
   ]
  },
  {
   "cell_type": "markdown",
   "metadata": {
    "slideshow": {
     "slide_type": "slide"
    }
   },
   "source": [
    "# Type-Based Fulfilling of test fixtures"
   ]
  },
  {
   "cell_type": "code",
   "execution_count": 18,
   "metadata": {
    "slideshow": {
     "slide_type": "subslide"
    }
   },
   "outputs": [],
   "source": [
    "from typing import Callable\n",
    "from dataclasses import dataclass\n",
    "from random import choice\n",
    "\n",
    "@dataclass\n",
    "class RandomWord:\n",
    "    def __init__(self):\n",
    "        self.val = choice(\"Lorem ipsum dolor sit amet consectetur adipiscing elit\".split())\n",
    "    def __repr__(self):\n",
    "        return self.val\n",
    " \n",
    "@dataclass\n",
    "class Surname:\n",
    "    value: RandomWord\n",
    "\n",
    "@dataclass\n",
    "class Fixture:\n",
    "    name: RandomWord\n",
    "        \n",
    "@dataclass\n",
    "class ExtendedFixture(Fixture):\n",
    "    surname: Surname\n",
    "    pass"
   ]
  },
  {
   "cell_type": "code",
   "execution_count": 19,
   "metadata": {
    "slideshow": {
     "slide_type": "subslide"
    }
   },
   "outputs": [
    {
     "name": "stdout",
     "output_type": "stream",
     "text": [
      "Fixture(name=sit)\n",
      "ExtendedFixture(name=Lorem, surname=Surname(value=adipiscing))\n",
      "ExtendedFixture(name=adipiscing, surname=Surname(value=elit))\n"
     ]
    },
    {
     "data": {
      "text/plain": [
       "'PASSED'"
      ]
     },
     "execution_count": 19,
     "metadata": {},
     "output_type": "execute_result"
    }
   ],
   "source": [
    "def satisfy_the_annotations(f: Callable):\n",
    "    sig = inspect.signature(f)\n",
    "    params = sig.bind(**{n: satisfy_the_annotations(p.annotation)\n",
    "                         for n, p in sig.parameters.items()})\n",
    "    return f(*params.args, **params.kwargs)\n",
    "\n",
    "\n",
    "def run_test(f: Callable):\n",
    "    retval = satisfy_the_annotations(f)\n",
    "    return \"PASSED\"\n",
    "        \n",
    "    \n",
    "def test_someting_very_nice(somefixture: Fixture,\n",
    "                            extended: ExtendedFixture,\n",
    "                            extended2: ExtendedFixture):\n",
    "    print(somefixture)\n",
    "    print(extended)\n",
    "    print(extended2)\n",
    "    assert isinstance(somefixture.name, RandomWord)\n",
    "\n",
    "    \n",
    "run_test(test_someting_very_nice)"
   ]
  },
  {
   "cell_type": "markdown",
   "metadata": {
    "slideshow": {
     "slide_type": "slide"
    }
   },
   "source": [
    "I made an [issue](https://github.com/pytest-dev/pytest/issues/7690#issuecomment-681040282) suggesting this in pytest project\n",
    "\n",
    "I have got the issue closed, but they do seem to want [something like that](https://fastapi.tiangolo.com/tutorial/dependencies/)"
   ]
  }
 ],
 "metadata": {
  "celltoolbar": "Slideshow",
  "kernelspec": {
   "display_name": "Python 3",
   "language": "python",
   "name": "python3"
  },
  "language_info": {
   "codemirror_mode": {
    "name": "ipython",
    "version": 3
   },
   "file_extension": ".py",
   "mimetype": "text/x-python",
   "name": "python",
   "nbconvert_exporter": "python",
   "pygments_lexer": "ipython3",
   "version": "3.8.5"
  },
  "widgets": {
   "application/vnd.jupyter.widget-state+json": {
    "state": {},
    "version_major": 2,
    "version_minor": 0
   }
  }
 },
 "nbformat": 4,
 "nbformat_minor": 4
}

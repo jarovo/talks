{
 "cells": [
  {
   "cell_type": "markdown",
   "metadata": {},
   "source": [
    "# The problem\n",
    "\n",
    "We got tracebacks like that:\n",
    "```\n",
    "--- Logging error ---\n",
    "Traceback (most recent call last):\n",
    "  File \"/usr/lib64/python3.7/logging/__init__.py\", line 1025, in emit\n",
    "    msg = self.format(record)\n",
    "  File \"/usr/lib64/python3.7/logging/__init__.py\", line 869, in format\n",
    "    return fmt.format(record)\n",
    "  File \"/usr/lib64/python3.7/logging/__init__.py\", line 608, in format\n",
    "    record.message = record.getMessage()\n",
    "  File \"/usr/lib64/python3.7/logging/__init__.py\", line 369, in getMessage\n",
    "    msg = msg % self.args\n",
    "  File \"/home/jhenner/work/miq/http_503_everywhere/.cfme_venv3/lib64/python3.7/site-packages/widgetastic/widget/base.py\", line 67, in wrapped\n",
    "    return method(self, *new_args, **new_kwargs)\n",
    "  File \"/home/jhenner/work/widgetastic.patternfly/src/widgetastic_patternfly/__init__.py\", line 348, in __repr__\n",
    "    return '{}({!r})'.format(type(self).__name__, self.locator)\n",
    "AttributeError: 'SettingsNavDropdown' object has no attribute 'locator'\n",
    "Call stack:\n",
    "  File \"/home/jhenner/work/miq/http_503_everywhere/.cfme_venv3/bin/py.test\", line 8, in <module>\n",
    "    sys.exit(main())\n",
    "  File \"/home/jhenner/work/miq/http_503_everywhere/.cfme_venv3/lib64/python3.7/site-packages/_pytest/config/__init__.py\", line 125, in main\n",
    "    config=config\n",
    "...\n",
    "  File \"/home/jhenner/work/miq/http_503_everywhere/.cfme_venv3/lib64/python3.7/site-packages/widgetastic/browser.py\", line 438, in is_displayed\n",
    "    return self.move_to_element(locator, *args, **kwargs).is_displayed()\n",
    "  File \"/home/jhenner/work/miq/http_503_everywhere/.cfme_venv3/lib64/python3.7/site-packages/widgetastic/utils.py\", line 679, in wrap\n",
    "    return method(*args, **kwargs)\n",
    "  File \"/home/jhenner/work/miq/http_503_everywhere/.cfme_venv3/lib64/python3.7/site-packages/widgetastic/browser.py\", line 456, in move_to_element\n",
    "    self.logger.debug\n",
    "    ('move_to_element: %r', locator)\n",
    "Unable to print the message and arguments - possible formatting error.\n",
    "Use the traceback above to help find the error.\n",
    "```"
   ]
  },
  {
   "cell_type": "markdown",
   "metadata": {},
   "source": [
    "# What is wrong?\n",
    "Well it takes some reading effort but the important is:\n",
    "```AttributeError: 'SettingsNavDropdown' object has no attribute 'locator'```\n",
    "\n",
    "It is a descendant of `widgetastic_patternfly.NavDropdown`. It has no `__repr__` defined, so the `NavDropdown` is what we should look at."
   ]
  },
  {
   "cell_type": "code",
   "execution_count": 4,
   "metadata": {},
   "outputs": [
    {
     "data": {
      "text/plain": [
       "'NavDropdown()'"
      ]
     },
     "execution_count": 4,
     "metadata": {},
     "output_type": "execute_result"
    }
   ],
   "source": [
    "from widgetastic_patternfly import NavDropdown\n",
    "str(NavDropdown())"
   ]
  },
  {
   "cell_type": "markdown",
   "metadata": {},
   "source": [
    "Well it works just fine..."
   ]
  },
  {
   "cell_type": "code",
   "execution_count": 291,
   "metadata": {
    "scrolled": true
   },
   "outputs": [
    {
     "ename": "AttributeError",
     "evalue": "'WidgetDescriptor' object has no attribute 'locator'",
     "output_type": "error",
     "traceback": [
      "\u001b[0;31m---------------------------------------------------------------------------\u001b[0m",
      "\u001b[0;31mAttributeError\u001b[0m                            Traceback (most recent call last)",
      "\u001b[0;32m<ipython-input-291-d1ec4c9fc217>\u001b[0m in \u001b[0;36m<module>\u001b[0;34m\u001b[0m\n\u001b[1;32m      1\u001b[0m \u001b[0mnav\u001b[0m \u001b[0;34m=\u001b[0m \u001b[0mNavDropdown\u001b[0m\u001b[0;34m(\u001b[0m\u001b[0;34m)\u001b[0m\u001b[0;34m\u001b[0m\u001b[0;34m\u001b[0m\u001b[0m\n\u001b[0;32m----> 2\u001b[0;31m \u001b[0mnav\u001b[0m\u001b[0;34m.\u001b[0m\u001b[0mlocator\u001b[0m\u001b[0;34m\u001b[0m\u001b[0;34m\u001b[0m\u001b[0m\n\u001b[0m",
      "\u001b[0;31mAttributeError\u001b[0m: 'WidgetDescriptor' object has no attribute 'locator'"
     ]
    }
   ],
   "source": [
    "nav = NavDropdown()\n",
    "nav.locator"
   ]
  },
  {
   "cell_type": "code",
   "execution_count": 290,
   "metadata": {},
   "outputs": [
    {
     "data": {
      "text/plain": [
       "<bound method WidgetDescriptor.__repr__ of NavDropdown()>"
      ]
     },
     "execution_count": 290,
     "metadata": {},
     "output_type": "execute_result"
    }
   ],
   "source": [
    "NavDropdown().__repr__"
   ]
  },
  {
   "cell_type": "markdown",
   "metadata": {},
   "source": [
    "Hmm, no locator... but wait! A `WidgetDescriptor`? I've just created `NavDropDown`, dind't I ?"
   ]
  },
  {
   "cell_type": "code",
   "execution_count": 292,
   "metadata": {},
   "outputs": [
    {
     "data": {
      "text/plain": [
       "widgetastic.widget.base.WidgetDescriptor"
      ]
     },
     "execution_count": 292,
     "metadata": {},
     "output_type": "execute_result"
    }
   ],
   "source": [
    "type(NavDropdown())"
   ]
  },
  {
   "cell_type": "code",
   "execution_count": 293,
   "metadata": {},
   "outputs": [],
   "source": [
    "NavDropdown??"
   ]
  },
  {
   "cell_type": "markdown",
   "metadata": {},
   "source": [
    "* nothing suspiccious in the source of `NavDropdown`\n",
    "* With more reading you see there is some **Metaclasses** magic being done."
   ]
  },
  {
   "cell_type": "code",
   "execution_count": 243,
   "metadata": {},
   "outputs": [],
   "source": [
    "from widgetastic_patternfly import Widget\n",
    "Widget??"
   ]
  },
  {
   "cell_type": "markdown",
   "metadata": {},
   "source": [
    "```python\n",
    "Init signature: Widget(*args, **kwargs)\n",
    "Source:        \n",
    "class Widget(object, metaclass=WidgetMetaclass):\n",
    "    \"\"\"Base class for all UI objects.\n",
    "\n",
    "    Does couple of things:\n",
    "\n",
    "        * Ensures it gets instantiated with a browser or another widget as parent. If you create an\n",
    "          instance in a class, it then creates a :py:class:`WidgetDescriptor` which is then invoked\n",
    "          on the instance and instantiates the widget with underlying browser.\n",
    "        * Implements some basic interface for all widgets.\n",
    "        \n",
    "    If you are inheriting from this class, you **MUST ALWAYS** ensure that the inherited class\n",
    "    has an init that always takes the ``parent`` as the first argument. You can do that on your\n",
    "    own, setting the parent as ``self.parent`` or you can do something like this:        \n",
    "    \n",
    "   .. code-block:: python\n",
    "\n",
    "        def __init__(self, parent, arg1, arg2, logger=None):\n",
    "            super(MyClass, self).__init__(parent, logger=logger)\n",
    "            # or if you have somehow complex inheritance ...\n",
    "            Widget.__init__(self, parent, logger=logger)\n",
    "\n",
    "```"
   ]
  },
  {
   "cell_type": "markdown",
   "metadata": {},
   "source": [
    "# The magic of widgetastic"
   ]
  },
  {
   "cell_type": "code",
   "execution_count": 297,
   "metadata": {},
   "outputs": [
    {
     "data": {
      "text/plain": [
       "widgetastic.widget.base.WidgetDescriptor"
      ]
     },
     "execution_count": 297,
     "metadata": {},
     "output_type": "execute_result"
    }
   ],
   "source": [
    "from widgetastic_patternfly import NavDropdown, View\n",
    "\n",
    "class MyView(View):\n",
    "    widget = NavDropdown()\n",
    "\n",
    "type(MyView.widget)"
   ]
  },
  {
   "cell_type": "markdown",
   "metadata": {},
   "source": [
    "After hours or more of figguring out:\n",
    " * **Perhaps** I need to instantiate the View\n",
    " * I need a `Browser` intance to do it.\n",
    " * there were some problems to do it, but today I new I can just use `MagicMock`."
   ]
  },
  {
   "cell_type": "code",
   "execution_count": 301,
   "metadata": {},
   "outputs": [
    {
     "data": {
      "text/plain": [
       "widgetastic_patternfly.NavDropdown"
      ]
     },
     "execution_count": 301,
     "metadata": {},
     "output_type": "execute_result"
    }
   ],
   "source": [
    "from widgetastic.browser import Browser\n",
    "from unittest.mock import MagicMock\n",
    "\n",
    "selenium_mock = MagicMock()\n",
    "view = MyView(Browser(selenium_mock))\n",
    "type(view.widget)"
   ]
  },
  {
   "cell_type": "markdown",
   "metadata": {},
   "source": [
    "**Looks promissing!** We sucessfully created a real `NavDropdown`. Let's try it fails:"
   ]
  },
  {
   "cell_type": "code",
   "execution_count": 271,
   "metadata": {},
   "outputs": [
    {
     "ename": "AttributeError",
     "evalue": "'NavDropdown' object has no attribute 'locator'",
     "output_type": "error",
     "traceback": [
      "\u001b[0;31m---------------------------------------------------------------------------\u001b[0m",
      "\u001b[0;31mAttributeError\u001b[0m                            Traceback (most recent call last)",
      "\u001b[0;32m~/work/types_talk/.venv/lib/python3.7/site-packages/IPython/core/formatters.py\u001b[0m in \u001b[0;36m__call__\u001b[0;34m(self, obj)\u001b[0m\n\u001b[1;32m    700\u001b[0m                 \u001b[0mtype_pprinters\u001b[0m\u001b[0;34m=\u001b[0m\u001b[0mself\u001b[0m\u001b[0;34m.\u001b[0m\u001b[0mtype_printers\u001b[0m\u001b[0;34m,\u001b[0m\u001b[0;34m\u001b[0m\u001b[0;34m\u001b[0m\u001b[0m\n\u001b[1;32m    701\u001b[0m                 deferred_pprinters=self.deferred_printers)\n\u001b[0;32m--> 702\u001b[0;31m             \u001b[0mprinter\u001b[0m\u001b[0;34m.\u001b[0m\u001b[0mpretty\u001b[0m\u001b[0;34m(\u001b[0m\u001b[0mobj\u001b[0m\u001b[0;34m)\u001b[0m\u001b[0;34m\u001b[0m\u001b[0;34m\u001b[0m\u001b[0m\n\u001b[0m\u001b[1;32m    703\u001b[0m             \u001b[0mprinter\u001b[0m\u001b[0;34m.\u001b[0m\u001b[0mflush\u001b[0m\u001b[0;34m(\u001b[0m\u001b[0;34m)\u001b[0m\u001b[0;34m\u001b[0m\u001b[0;34m\u001b[0m\u001b[0m\n\u001b[1;32m    704\u001b[0m             \u001b[0;32mreturn\u001b[0m \u001b[0mstream\u001b[0m\u001b[0;34m.\u001b[0m\u001b[0mgetvalue\u001b[0m\u001b[0;34m(\u001b[0m\u001b[0;34m)\u001b[0m\u001b[0;34m\u001b[0m\u001b[0;34m\u001b[0m\u001b[0m\n",
      "\u001b[0;32m~/work/types_talk/.venv/lib/python3.7/site-packages/IPython/lib/pretty.py\u001b[0m in \u001b[0;36mpretty\u001b[0;34m(self, obj)\u001b[0m\n\u001b[1;32m    392\u001b[0m                         \u001b[0;32mif\u001b[0m \u001b[0mcls\u001b[0m \u001b[0;32mis\u001b[0m \u001b[0;32mnot\u001b[0m \u001b[0mobject\u001b[0m\u001b[0;31m \u001b[0m\u001b[0;31m\\\u001b[0m\u001b[0;34m\u001b[0m\u001b[0;34m\u001b[0m\u001b[0m\n\u001b[1;32m    393\u001b[0m                                 \u001b[0;32mand\u001b[0m \u001b[0mcallable\u001b[0m\u001b[0;34m(\u001b[0m\u001b[0mcls\u001b[0m\u001b[0;34m.\u001b[0m\u001b[0m__dict__\u001b[0m\u001b[0;34m.\u001b[0m\u001b[0mget\u001b[0m\u001b[0;34m(\u001b[0m\u001b[0;34m'__repr__'\u001b[0m\u001b[0;34m)\u001b[0m\u001b[0;34m)\u001b[0m\u001b[0;34m:\u001b[0m\u001b[0;34m\u001b[0m\u001b[0;34m\u001b[0m\u001b[0m\n\u001b[0;32m--> 394\u001b[0;31m                             \u001b[0;32mreturn\u001b[0m \u001b[0m_repr_pprint\u001b[0m\u001b[0;34m(\u001b[0m\u001b[0mobj\u001b[0m\u001b[0;34m,\u001b[0m \u001b[0mself\u001b[0m\u001b[0;34m,\u001b[0m \u001b[0mcycle\u001b[0m\u001b[0;34m)\u001b[0m\u001b[0;34m\u001b[0m\u001b[0;34m\u001b[0m\u001b[0m\n\u001b[0m\u001b[1;32m    395\u001b[0m \u001b[0;34m\u001b[0m\u001b[0m\n\u001b[1;32m    396\u001b[0m             \u001b[0;32mreturn\u001b[0m \u001b[0m_default_pprint\u001b[0m\u001b[0;34m(\u001b[0m\u001b[0mobj\u001b[0m\u001b[0;34m,\u001b[0m \u001b[0mself\u001b[0m\u001b[0;34m,\u001b[0m \u001b[0mcycle\u001b[0m\u001b[0;34m)\u001b[0m\u001b[0;34m\u001b[0m\u001b[0;34m\u001b[0m\u001b[0m\n",
      "\u001b[0;32m~/work/types_talk/.venv/lib/python3.7/site-packages/IPython/lib/pretty.py\u001b[0m in \u001b[0;36m_repr_pprint\u001b[0;34m(obj, p, cycle)\u001b[0m\n\u001b[1;32m    698\u001b[0m     \u001b[0;34m\"\"\"A pprint that just redirects to the normal repr function.\"\"\"\u001b[0m\u001b[0;34m\u001b[0m\u001b[0;34m\u001b[0m\u001b[0m\n\u001b[1;32m    699\u001b[0m     \u001b[0;31m# Find newlines and replace them with p.break_()\u001b[0m\u001b[0;34m\u001b[0m\u001b[0;34m\u001b[0m\u001b[0;34m\u001b[0m\u001b[0m\n\u001b[0;32m--> 700\u001b[0;31m     \u001b[0moutput\u001b[0m \u001b[0;34m=\u001b[0m \u001b[0mrepr\u001b[0m\u001b[0;34m(\u001b[0m\u001b[0mobj\u001b[0m\u001b[0;34m)\u001b[0m\u001b[0;34m\u001b[0m\u001b[0;34m\u001b[0m\u001b[0m\n\u001b[0m\u001b[1;32m    701\u001b[0m     \u001b[0mlines\u001b[0m \u001b[0;34m=\u001b[0m \u001b[0moutput\u001b[0m\u001b[0;34m.\u001b[0m\u001b[0msplitlines\u001b[0m\u001b[0;34m(\u001b[0m\u001b[0;34m)\u001b[0m\u001b[0;34m\u001b[0m\u001b[0;34m\u001b[0m\u001b[0m\n\u001b[1;32m    702\u001b[0m     \u001b[0;32mwith\u001b[0m \u001b[0mp\u001b[0m\u001b[0;34m.\u001b[0m\u001b[0mgroup\u001b[0m\u001b[0;34m(\u001b[0m\u001b[0;34m)\u001b[0m\u001b[0;34m:\u001b[0m\u001b[0;34m\u001b[0m\u001b[0;34m\u001b[0m\u001b[0m\n",
      "\u001b[0;32m~/work/types_talk/.venv/lib/python3.7/site-packages/widgetastic/widget/base.py\u001b[0m in \u001b[0;36mwrapped\u001b[0;34m(self, *args, **kwargs)\u001b[0m\n\u001b[1;32m     65\u001b[0m         \u001b[0mnew_kwargs\u001b[0m \u001b[0;34m=\u001b[0m \u001b[0;34m{\u001b[0m\u001b[0mkey\u001b[0m\u001b[0;34m:\u001b[0m \u001b[0mresolve_arg\u001b[0m\u001b[0;34m(\u001b[0m\u001b[0mparent\u001b[0m\u001b[0;34m,\u001b[0m \u001b[0mvalue\u001b[0m\u001b[0;34m)\u001b[0m \u001b[0;32mfor\u001b[0m \u001b[0mkey\u001b[0m\u001b[0;34m,\u001b[0m \u001b[0mvalue\u001b[0m \u001b[0;32min\u001b[0m \u001b[0mkwargs\u001b[0m\u001b[0;34m.\u001b[0m\u001b[0mitems\u001b[0m\u001b[0;34m(\u001b[0m\u001b[0;34m)\u001b[0m\u001b[0;34m}\u001b[0m\u001b[0;34m\u001b[0m\u001b[0;34m\u001b[0m\u001b[0m\n\u001b[1;32m     66\u001b[0m \u001b[0;34m\u001b[0m\u001b[0m\n\u001b[0;32m---> 67\u001b[0;31m         \u001b[0;32mreturn\u001b[0m \u001b[0mmethod\u001b[0m\u001b[0;34m(\u001b[0m\u001b[0mself\u001b[0m\u001b[0;34m,\u001b[0m \u001b[0;34m*\u001b[0m\u001b[0mnew_args\u001b[0m\u001b[0;34m,\u001b[0m \u001b[0;34m**\u001b[0m\u001b[0mnew_kwargs\u001b[0m\u001b[0;34m)\u001b[0m\u001b[0;34m\u001b[0m\u001b[0;34m\u001b[0m\u001b[0m\n\u001b[0m\u001b[1;32m     68\u001b[0m     \u001b[0;32mreturn\u001b[0m \u001b[0mwrapped\u001b[0m\u001b[0;34m\u001b[0m\u001b[0;34m\u001b[0m\u001b[0m\n\u001b[1;32m     69\u001b[0m \u001b[0;34m\u001b[0m\u001b[0m\n",
      "\u001b[0;32m~/work/types_talk/.venv/lib/python3.7/site-packages/widgetastic_patternfly/__init__.py\u001b[0m in \u001b[0;36m__repr__\u001b[0;34m(self)\u001b[0m\n\u001b[1;32m    346\u001b[0m \u001b[0;34m\u001b[0m\u001b[0m\n\u001b[1;32m    347\u001b[0m     \u001b[0;32mdef\u001b[0m \u001b[0m__repr__\u001b[0m\u001b[0;34m(\u001b[0m\u001b[0mself\u001b[0m\u001b[0;34m)\u001b[0m\u001b[0;34m:\u001b[0m\u001b[0;34m\u001b[0m\u001b[0;34m\u001b[0m\u001b[0m\n\u001b[0;32m--> 348\u001b[0;31m         \u001b[0;32mreturn\u001b[0m \u001b[0;34m'{}({!r})'\u001b[0m\u001b[0;34m.\u001b[0m\u001b[0mformat\u001b[0m\u001b[0;34m(\u001b[0m\u001b[0mtype\u001b[0m\u001b[0;34m(\u001b[0m\u001b[0mself\u001b[0m\u001b[0;34m)\u001b[0m\u001b[0;34m.\u001b[0m\u001b[0m__name__\u001b[0m\u001b[0;34m,\u001b[0m \u001b[0mself\u001b[0m\u001b[0;34m.\u001b[0m\u001b[0mlocator\u001b[0m\u001b[0;34m)\u001b[0m\u001b[0;34m\u001b[0m\u001b[0;34m\u001b[0m\u001b[0m\n\u001b[0m\u001b[1;32m    349\u001b[0m \u001b[0;34m\u001b[0m\u001b[0m\n\u001b[1;32m    350\u001b[0m \u001b[0;34m\u001b[0m\u001b[0m\n",
      "\u001b[0;31mAttributeError\u001b[0m: 'NavDropdown' object has no attribute 'locator'"
     ]
    }
   ],
   "source": [
    "view.widget"
   ]
  },
  {
   "cell_type": "markdown",
   "metadata": {},
   "source": [
    "**OMG! OMG! OMG! OMG! It does Fail**. Let's fix it using some mokey-patching."
   ]
  },
  {
   "cell_type": "code",
   "execution_count": 284,
   "metadata": {},
   "outputs": [
    {
     "data": {
      "text/plain": [
       "The fixed NavDropdown"
      ]
     },
     "execution_count": 284,
     "metadata": {},
     "output_type": "execute_result"
    }
   ],
   "source": [
    "def fixed_repr(self):\n",
    "    return 'The fixed NavDropdown'\n",
    "NavDropdown.__repr__ = fixed_repr\n",
    "\n",
    "class MyView(View):\n",
    "    widget = NavDropdown()\n",
    "\n",
    "view = MyView(Browser(MagicMock()))\n",
    "view.widget"
   ]
  },
  {
   "cell_type": "markdown",
   "metadata": {},
   "source": [
    "Ok. We have the fix, but there is **lots of `Widget` descendants** defined in the wrapanapi. The wrapanapi is **quite intricated** pile of **Metaclass** magic **Descriptors** and dynamic code smells like `isinstance` and `hassattr`. I should make a test the __str__ and __repr__ of all the classes it exports. But how?\n",
    "\n",
    "```python\n",
    "from widgetastic_patternfly import View, Button, Kebab, Text, ...\n",
    "def test_str(browser):\n",
    "    class TestView(View):\n",
    "        any_button = Button()  # will pick up first button...\n",
    "        button1 = Button('Default Normal')\n",
    "        button2 = Button(title='Destructive title')\n",
    "        button3 = Button(title='noText', classes=[Button.PRIMARY])\n",
    "        kebab = Kebab(...)\n",
    "        kebab2 = Kebab(id=\"\")\n",
    "        ...\n",
    "    view = TestView(browser)\n",
    "    for widget in view.any_button, view.button1, view.button2, view.button3, ...:\n",
    "        assert type(str(widget)) is str\n",
    "```\n",
    "\n",
    "Not great heh... mainly there is **no guarantee that newly defined class will get tested.**\n"
   ]
  },
  {
   "cell_type": "markdown",
   "metadata": {},
   "source": [
    "# Creating the unit-test testing all the exported components\n",
    "\n",
    "Well I learned something about what happens **behind the seens** of Python types and classes."
   ]
  },
  {
   "cell_type": "code",
   "execution_count": 323,
   "metadata": {},
   "outputs": [],
   "source": [
    "DynamicType = type('TheTestView', (View,), dict(some_attribute=\"attribute value\"))"
   ]
  },
  {
   "cell_type": "markdown",
   "metadata": {},
   "source": [
    "**We just created a type in dynamic way.**"
   ]
  },
  {
   "cell_type": "code",
   "execution_count": 324,
   "metadata": {},
   "outputs": [
    {
     "data": {
      "text/plain": [
       "('widgetastic.widget.base', '__main__')"
      ]
     },
     "execution_count": 324,
     "metadata": {},
     "output_type": "execute_result"
    }
   ],
   "source": [
    "class OrdinaryType(View):\n",
    "    some_attribute = \"attribute_value\"\n",
    "\n",
    "DynamicType.__module__, OrdinaryType.__module__"
   ]
  },
  {
   "cell_type": "markdown",
   "metadata": {},
   "source": [
    "This is just a small difference of the behavior. that may bite you some day. Otherwise the results are **identical**"
   ]
  },
  {
   "cell_type": "code",
   "execution_count": 327,
   "metadata": {},
   "outputs": [
    {
     "data": {
      "text/plain": [
       "[('AboutModal', widgetastic_patternfly.AboutModal),\n",
       " ('Accordion', widgetastic_patternfly.Accordion),\n",
       " ('AggregateStatusCard', widgetastic_patternfly.AggregateStatusCard),\n",
       " ('AggregateStatusMiniCard', widgetastic_patternfly.AggregateStatusMiniCard),\n",
       " ('BarChart', widgetastic_patternfly.BarChart),\n",
       " ('BaseInput', widgetastic.widget.input.BaseInput),\n",
       " ('BootstrapNav', widgetastic_patternfly.BootstrapNav),\n",
       " ('BootstrapSelect', widgetastic_patternfly.BootstrapSelect),\n",
       " ('BootstrapSwitch', widgetastic_patternfly.BootstrapSwitch),\n",
       " ('BootstrapTreeview', widgetastic_patternfly.BootstrapTreeview),\n",
       " ('BreadCrumb', widgetastic_patternfly.BreadCrumb),\n",
       " ('Button', widgetastic_patternfly.Button),\n",
       " ('CandidateNotFound', widgetastic_patternfly.CandidateNotFound),\n",
       " ('CheckableBootstrapTreeview',\n",
       "  widgetastic_patternfly.CheckableBootstrapTreeview),\n",
       " ('ClickableMixin', widgetastic.widget.base.ClickableMixin),\n",
       " ('DatePicker', widgetastic_patternfly.DatePicker),\n",
       " ('Dropdown', widgetastic_patternfly.Dropdown),\n",
       " ('DropdownDisabled', widgetastic_patternfly.DropdownDisabled),\n",
       " ('DropdownItemDisabled', widgetastic_patternfly.DropdownItemDisabled),\n",
       " ('DropdownItemNotFound', widgetastic_patternfly.DropdownItemNotFound),\n",
       " ('FlashMessage', widgetastic_patternfly.FlashMessage),\n",
       " ('FlashMessages', widgetastic_patternfly.FlashMessages),\n",
       " ('GenericTabWithDropdown', widgetastic_patternfly.GenericTabWithDropdown),\n",
       " ('GroupedBarChart', widgetastic_patternfly.GroupedBarChart),\n",
       " ('Input', widgetastic_patternfly.Input),\n",
       " ('ItemsList', widgetastic_patternfly.ItemsList),\n",
       " ('Kebab', widgetastic_patternfly.Kebab),\n",
       " ('LineChart', widgetastic_patternfly.LineChart),\n",
       " ('ListItem', widgetastic_patternfly.ListItem),\n",
       " ('LocatorNotImplemented', widgetastic.exceptions.LocatorNotImplemented),\n",
       " ('Modal', widgetastic_patternfly.Modal),\n",
       " ('NavDropdown', widgetastic_patternfly.NavDropdown),\n",
       " ('NoSuchElementException', selenium.common.exceptions.NoSuchElementException),\n",
       " ('PFIcon', widgetastic_patternfly.utils.PFIcon),\n",
       " ('Parameter', widgetastic.utils.Parameter),\n",
       " ('ParametrizedLocator', widgetastic.utils.ParametrizedLocator),\n",
       " ('ParametrizedView', widgetastic.widget.base.ParametrizedView),\n",
       " ('Pattern', re.Pattern),\n",
       " ('SelectItemNotFound', widgetastic_patternfly.SelectItemNotFound),\n",
       " ('SelectorDropdown', widgetastic_patternfly.SelectorDropdown),\n",
       " ('SingleLineChart', widgetastic_patternfly.SingleLineChart),\n",
       " ('SingleSplineChart', widgetastic_patternfly.SingleSplineChart),\n",
       " ('SparkLineChart', widgetastic_patternfly.SparkLineChart),\n",
       " ('SplineChart', widgetastic_patternfly.SplineChart),\n",
       " ('StaleElementReferenceException',\n",
       "  selenium.common.exceptions.StaleElementReferenceException),\n",
       " ('StatusNotification', widgetastic_patternfly.StatusNotification),\n",
       " ('Tab', widgetastic_patternfly.Tab),\n",
       " ('TabWithDropdown', widgetastic_patternfly.TabWithDropdown),\n",
       " ('Table', widgetastic.widget.table.Table),\n",
       " ('Text', widgetastic.widget.text.Text),\n",
       " ('TextInput', widgetastic.widget.input.TextInput),\n",
       " ('TimedOutError', wait_for.TimedOutError),\n",
       " ('UnexpectedAlertPresentException',\n",
       "  selenium.common.exceptions.UnexpectedAlertPresentException),\n",
       " ('VersionPick', widgetastic.utils.VersionPick),\n",
       " ('VerticalNavigation', widgetastic_patternfly.VerticalNavigation),\n",
       " ('View', widgetastic.widget.base.View),\n",
       " ('ViewChangeButton', widgetastic_patternfly.ViewChangeButton),\n",
       " ('Widget', widgetastic.widget.base.Widget),\n",
       " ('WidgetOperationFailed', widgetastic.exceptions.WidgetOperationFailed),\n",
       " ('__builtins__',\n",
       "  {'__name__': 'builtins',\n",
       "   '__doc__': \"Built-in functions, exceptions, and other objects.\\n\\nNoteworthy: None is the `nil' object; Ellipsis represents `...' in slices.\",\n",
       "   '__package__': '',\n",
       "   '__loader__': _frozen_importlib.BuiltinImporter,\n",
       "   '__spec__': ModuleSpec(name='builtins', loader=<class '_frozen_importlib.BuiltinImporter'>),\n",
       "   '__build_class__': <function __build_class__>,\n",
       "   '__import__': <function __import__>,\n",
       "   'abs': <function abs(x, /)>,\n",
       "   'all': <function all(iterable, /)>,\n",
       "   'any': <function any(iterable, /)>,\n",
       "   'ascii': <function ascii(obj, /)>,\n",
       "   'bin': <function bin(number, /)>,\n",
       "   'breakpoint': <function breakpoint>,\n",
       "   'callable': <function callable(obj, /)>,\n",
       "   'chr': <function chr(i, /)>,\n",
       "   'compile': <function compile(source, filename, mode, flags=0, dont_inherit=False, optimize=-1)>,\n",
       "   'delattr': <function delattr(obj, name, /)>,\n",
       "   'dir': <function dir>,\n",
       "   'divmod': <function divmod(x, y, /)>,\n",
       "   'eval': <function eval(source, globals=None, locals=None, /)>,\n",
       "   'exec': <function exec(source, globals=None, locals=None, /)>,\n",
       "   'format': <function format(value, format_spec='', /)>,\n",
       "   'getattr': <function getattr>,\n",
       "   'globals': <function globals()>,\n",
       "   'hasattr': <function hasattr(obj, name, /)>,\n",
       "   'hash': <function hash(obj, /)>,\n",
       "   'hex': <function hex(number, /)>,\n",
       "   'id': <function id(obj, /)>,\n",
       "   'input': <bound method Kernel.raw_input of <ipykernel.ipkernel.IPythonKernel object at 0x7f0942626e10>>,\n",
       "   'isinstance': <function isinstance(obj, class_or_tuple, /)>,\n",
       "   'issubclass': <function issubclass(cls, class_or_tuple, /)>,\n",
       "   'iter': <function iter>,\n",
       "   'len': <function len(obj, /)>,\n",
       "   'locals': <function locals()>,\n",
       "   'max': <function max>,\n",
       "   'min': <function min>,\n",
       "   'next': <function next>,\n",
       "   'oct': <function oct(number, /)>,\n",
       "   'ord': <function ord(c, /)>,\n",
       "   'pow': <function pow(x, y, z=None, /)>,\n",
       "   'print': <function print>,\n",
       "   'repr': <function repr(obj, /)>,\n",
       "   'round': <function round(number, ndigits=None)>,\n",
       "   'setattr': <function setattr(obj, name, value, /)>,\n",
       "   'sorted': <function sorted(iterable, /, *, key=None, reverse=False)>,\n",
       "   'sum': <function sum(iterable, start=0, /)>,\n",
       "   'vars': <function vars>,\n",
       "   'None': None,\n",
       "   'Ellipsis': Ellipsis,\n",
       "   'NotImplemented': NotImplemented,\n",
       "   'False': False,\n",
       "   'True': True,\n",
       "   'bool': bool,\n",
       "   'memoryview': memoryview,\n",
       "   'bytearray': bytearray,\n",
       "   'bytes': bytes,\n",
       "   'classmethod': classmethod,\n",
       "   'complex': complex,\n",
       "   'dict': dict,\n",
       "   'enumerate': enumerate,\n",
       "   'filter': filter,\n",
       "   'float': float,\n",
       "   'frozenset': frozenset,\n",
       "   'property': property,\n",
       "   'int': int,\n",
       "   'list': list,\n",
       "   'map': map,\n",
       "   'object': object,\n",
       "   'range': range,\n",
       "   'reversed': reversed,\n",
       "   'set': set,\n",
       "   'slice': slice,\n",
       "   'staticmethod': staticmethod,\n",
       "   'str': str,\n",
       "   'super': super,\n",
       "   'tuple': tuple,\n",
       "   'type': type,\n",
       "   'zip': zip,\n",
       "   '__debug__': True,\n",
       "   'BaseException': BaseException,\n",
       "   'Exception': Exception,\n",
       "   'TypeError': TypeError,\n",
       "   'StopAsyncIteration': StopAsyncIteration,\n",
       "   'StopIteration': StopIteration,\n",
       "   'GeneratorExit': GeneratorExit,\n",
       "   'SystemExit': SystemExit,\n",
       "   'KeyboardInterrupt': KeyboardInterrupt,\n",
       "   'ImportError': ImportError,\n",
       "   'ModuleNotFoundError': ModuleNotFoundError,\n",
       "   'OSError': OSError,\n",
       "   'EnvironmentError': OSError,\n",
       "   'IOError': OSError,\n",
       "   'EOFError': EOFError,\n",
       "   'RuntimeError': RuntimeError,\n",
       "   'RecursionError': RecursionError,\n",
       "   'NotImplementedError': NotImplementedError,\n",
       "   'NameError': NameError,\n",
       "   'UnboundLocalError': UnboundLocalError,\n",
       "   'AttributeError': AttributeError,\n",
       "   'SyntaxError': SyntaxError,\n",
       "   'IndentationError': IndentationError,\n",
       "   'TabError': TabError,\n",
       "   'LookupError': LookupError,\n",
       "   'IndexError': IndexError,\n",
       "   'KeyError': KeyError,\n",
       "   'ValueError': ValueError,\n",
       "   'UnicodeError': UnicodeError,\n",
       "   'UnicodeEncodeError': UnicodeEncodeError,\n",
       "   'UnicodeDecodeError': UnicodeDecodeError,\n",
       "   'UnicodeTranslateError': UnicodeTranslateError,\n",
       "   'AssertionError': AssertionError,\n",
       "   'ArithmeticError': ArithmeticError,\n",
       "   'FloatingPointError': FloatingPointError,\n",
       "   'OverflowError': OverflowError,\n",
       "   'ZeroDivisionError': ZeroDivisionError,\n",
       "   'SystemError': SystemError,\n",
       "   'ReferenceError': ReferenceError,\n",
       "   'MemoryError': MemoryError,\n",
       "   'BufferError': BufferError,\n",
       "   'Warning': Warning,\n",
       "   'UserWarning': UserWarning,\n",
       "   'DeprecationWarning': DeprecationWarning,\n",
       "   'PendingDeprecationWarning': PendingDeprecationWarning,\n",
       "   'SyntaxWarning': SyntaxWarning,\n",
       "   'RuntimeWarning': RuntimeWarning,\n",
       "   'FutureWarning': FutureWarning,\n",
       "   'ImportWarning': ImportWarning,\n",
       "   'UnicodeWarning': UnicodeWarning,\n",
       "   'BytesWarning': BytesWarning,\n",
       "   'ResourceWarning': ResourceWarning,\n",
       "   'ConnectionError': ConnectionError,\n",
       "   'BlockingIOError': BlockingIOError,\n",
       "   'BrokenPipeError': BrokenPipeError,\n",
       "   'ChildProcessError': ChildProcessError,\n",
       "   'ConnectionAbortedError': ConnectionAbortedError,\n",
       "   'ConnectionRefusedError': ConnectionRefusedError,\n",
       "   'ConnectionResetError': ConnectionResetError,\n",
       "   'FileExistsError': FileExistsError,\n",
       "   'FileNotFoundError': FileNotFoundError,\n",
       "   'IsADirectoryError': IsADirectoryError,\n",
       "   'NotADirectoryError': NotADirectoryError,\n",
       "   'InterruptedError': InterruptedError,\n",
       "   'PermissionError': PermissionError,\n",
       "   'ProcessLookupError': ProcessLookupError,\n",
       "   'TimeoutError': TimeoutError,\n",
       "   'open': <function io.open(file, mode='r', buffering=-1, encoding=None, errors=None, newline=None, closefd=True, opener=None)>,\n",
       "   'copyright': Copyright (c) 2001-2020 Python Software Foundation.\n",
       "   All Rights Reserved.\n",
       "   \n",
       "   Copyright (c) 2000 BeOpen.com.\n",
       "   All Rights Reserved.\n",
       "   \n",
       "   Copyright (c) 1995-2001 Corporation for National Research Initiatives.\n",
       "   All Rights Reserved.\n",
       "   \n",
       "   Copyright (c) 1991-1995 Stichting Mathematisch Centrum, Amsterdam.\n",
       "   All Rights Reserved.,\n",
       "   'credits':     Thanks to CWI, CNRI, BeOpen.com, Zope Corporation and a cast of thousands\n",
       "       for supporting Python development.  See www.python.org for more information.,\n",
       "   'license': Type license() to see the full license text,\n",
       "   'help': Type help() for interactive help, or help(object) for help about object.,\n",
       "   '__IPYTHON__': True,\n",
       "   'display': <function IPython.core.display.display(*objs, include=None, exclude=None, metadata=None, transient=None, display_id=None, **kwargs)>,\n",
       "   'get_ipython': <bound method InteractiveShell.get_ipython of <ipykernel.zmqshell.ZMQInteractiveShell object at 0x7f0942e509d0>>}),\n",
       " ('__cached__',\n",
       "  '/home/jhenner/work/types_talk/.venv/lib/python3.7/site-packages/widgetastic_patternfly/__pycache__/__init__.cpython-37.pyc'),\n",
       " ('__doc__',\n",
       "  'This package contains classes that represent widgets in Patternfly for Widgetastic'),\n",
       " ('__file__',\n",
       "  '/home/jhenner/work/types_talk/.venv/lib/python3.7/site-packages/widgetastic_patternfly/__init__.py'),\n",
       " ('__loader__',\n",
       "  <_frozen_importlib_external.SourceFileLoader at 0x7f0943931a50>),\n",
       " ('__name__', 'widgetastic_patternfly'),\n",
       " ('__package__', 'widgetastic_patternfly'),\n",
       " ('__path__',\n",
       "  ['/home/jhenner/work/types_talk/.venv/lib/python3.7/site-packages/widgetastic_patternfly']),\n",
       " ('__spec__',\n",
       "  ModuleSpec(name='widgetastic_patternfly', loader=<_frozen_importlib_external.SourceFileLoader object at 0x7f0943931a50>, origin='/home/jhenner/work/types_talk/.venv/lib/python3.7/site-packages/widgetastic_patternfly/__init__.py', submodule_search_locations=['/home/jhenner/work/types_talk/.venv/lib/python3.7/site-packages/widgetastic_patternfly'])),\n",
       " ('cached_property', cached_property.cached_property),\n",
       " ('call_sig', <function widgetastic.log.call_sig(args, kwargs)>),\n",
       " ('datetime', datetime.datetime),\n",
       " ('do_not_read_this_widget',\n",
       "  <function widgetastic.widget.base.do_not_read_this_widget()>),\n",
       " ('namedtuple',\n",
       "  <function collections.namedtuple(typename, field_names, *, rename=False, defaults=None, module=None)>),\n",
       " ('not_', <function _operator.not_(a, /)>),\n",
       " ('partial_match', widgetastic.utils.partial_match),\n",
       " ('quote', <function widgetastic.xpath.quote(s)>),\n",
       " ('re',\n",
       "  <module 're' from '/home/jhenner/work/types_talk/.venv/lib64/python3.7/re.py'>),\n",
       " ('time', <module 'time' (built-in)>),\n",
       " ('utils',\n",
       "  <module 'widgetastic_patternfly.utils' from '/home/jhenner/work/types_talk/.venv/lib/python3.7/site-packages/widgetastic_patternfly/utils.py'>),\n",
       " ('wait_for',\n",
       "  <function wait_for.wait_for(func, func_args=[], func_kwargs={}, logger=None, **kwargs)>),\n",
       " ('wait_for_decorator',\n",
       "  <function wait_for.wait_for_decorator(*args, **kwargs)>)]"
      ]
     },
     "execution_count": 327,
     "metadata": {},
     "output_type": "execute_result"
    }
   ],
   "source": [
    "import widgetastic_patternfly\n",
    "\n",
    "import inspect\n",
    "inspect.getmembers(widgetastic_patternfly)"
   ]
  },
  {
   "cell_type": "code",
   "execution_count": 326,
   "metadata": {},
   "outputs": [
    {
     "name": "stdout",
     "output_type": "stream",
     "text": [
      "{'self': __main__.WidgetDescriptor,\n",
      " 'args': ('arg',),\n",
      " 'kwargs': {'foo': 'kwarg'}}\n"
     ]
    },
    {
     "data": {
      "text/plain": [
       "('Any random object', 'Any random object')"
      ]
     },
     "execution_count": 326,
     "metadata": {},
     "output_type": "execute_result"
    }
   ],
   "source": [
    "from IPython.lib.pretty import pprint\n",
    "\n",
    "class WidgetDescriptor:\n",
    "    def __new__(self, *args, **kwargs):\n",
    "        pprint(locals())\n",
    "        return \"Any random object\"\n",
    "    \n",
    "\n",
    "class MyView:\n",
    "    the_attribute = WidgetDescriptor(\"arg\", foo=\"kwarg\")\n",
    "    \n",
    "MyView.the_attribute, MyView().the_attribute"
   ]
  },
  {
   "cell_type": "code",
   "execution_count": 241,
   "metadata": {},
   "outputs": [
    {
     "name": "stdout",
     "output_type": "stream",
     "text": [
      "{'self': __main__.Widget,\n",
      " 'args': (),\n",
      " 'kwargs': {},\n",
      " '__class__': __main__.Metaclass}\n",
      "======Metaclass.call is creating an instance of <class '__main__.Widget'>\n",
      "======Metaclass.new is creating a type named Widget\n",
      "{'cls': __main__.Metaclass,\n",
      " 'name': 'Widget',\n",
      " 'bases': (),\n",
      " 'attrs': {'__module__': '__main__',\n",
      "  '__qualname__': 'Widget',\n",
      "  'foo': <__main__.Widget at 0x7f0926034b50>},\n",
      " '__class__': __main__.Metaclass}\n",
      "=====Metaclass.init lets the <class '__main__.Widget'> modify itself.\n",
      "{'self': __main__.Widget,\n",
      " 'args': ('Widget',\n",
      "  (),\n",
      "  {'__module__': '__main__',\n",
      "   '__qualname__': 'Widget',\n",
      "   'foo': <__main__.Widget at 0x7f0926034b50>,\n",
      "   'container': 'Widget'}),\n",
      " 'kwargs': {}}\n"
     ]
    },
    {
     "data": {
      "text/plain": [
       "'Widget'"
      ]
     },
     "execution_count": 241,
     "metadata": {},
     "output_type": "execute_result"
    }
   ],
   "source": [
    "from IPython.lib.pretty import pprint\n",
    "\n",
    "class Metaclass(type): \n",
    "    def __new__(cls, name, bases, attrs):\n",
    "        \"\"\"\n",
    "        Crates new type\n",
    "        \"\"\"\n",
    "        print(f\"======Metaclass.new is creating a type named {name}\")\n",
    "        pprint(locals())\n",
    "\n",
    "    def __call__(self, *args, **kwargs):\n",
    "        \"\"\"\n",
    "        Instantiates the class to an object\n",
    "        \"\"\"\n",
    "        pprint(locals())\n",
    "        print(f\"======Metaclass.call is creating an instance of {self}\")\n",
    "        obj = super().__call__(*args, **kwargs)\n",
    "        assert isinstance(obj, object)\n",
    "        return obj\n",
    "\n",
    "    def __init__(self, *args, **kwargs):\n",
    "        \"\"\"\n",
    "        Fills the __dict__\n",
    "        \"\"\"\n",
    "        print(f\"=====Metaclass.init lets the {self} modify itself.\")\n",
    "        pprint(locals())\n",
    "        \n",
    "        \n",
    "class WidgetDescriptor:\n",
    "    \"\"\"This class handles instantiating and caching of the widgets on view.\n",
    "\n",
    "    It stores the class and the parameters it should be instantiated with. Once it is accessed from\n",
    "    the instance of the class where it was defined on, it passes the instance to the widget class\n",
    "    followed by args and then kwargs.\n",
    "\n",
    "    It also acts as a counter, so you can then order the widgets by their \"creation\" stamp.\n",
    "    \"\"\"\n",
    "    def __init__(self, klass, *args, **kwargs):\n",
    "        self.klass = klass\n",
    "        self.args = args\n",
    "        self.kwargs = kwargs\n",
    "        \n",
    "        \n",
    "class Widget(metaclass=Metaclass):\n",
    "    foo = Widget()\n",
    "    \n",
    "Widget.container"
   ]
  },
  {
   "cell_type": "code",
   "execution_count": 142,
   "metadata": {},
   "outputs": [
    {
     "name": "stdout",
     "output_type": "stream",
     "text": [
      "======Metaclass.new is creating a type named View\n",
      "{'cls': __main__.Metaclass,\n",
      " 'name': 'View',\n",
      " 'bases': (__main__.Widget,),\n",
      " 'attrs': {'__module__': '__main__',\n",
      "  '__qualname__': 'View',\n",
      "  'attribute': 'content'},\n",
      " '__class__': __main__.Metaclass}\n",
      "=====Metaclass.init lets the <class '__main__.View'> modify itself.\n",
      "{'self': __main__.View,\n",
      " 'args': ('View',\n",
      "  (__main__.Widget,),\n",
      "  {'__module__': '__main__', '__qualname__': 'View', 'attribute': 'content'}),\n",
      " 'kwargs': {}}\n"
     ]
    }
   ],
   "source": [
    "class View(Widget):\n",
    "    attribute = \"content\""
   ]
  },
  {
   "cell_type": "code",
   "execution_count": 164,
   "metadata": {},
   "outputs": [],
   "source": [
    "class LazyType:\n",
    "    def __new__(cls, *args, **kwargs):\n",
    "        container = Widget\n",
    "        if (args and isinstance(args[0], container)) \\\n",
    "                or (isinstance(kwargs.get('parent', None), container)):\n",
    "            return super().__new__(cls)\n",
    "        else:\n",
    "            return WidgetDescriptor(cls, *args, **kwargs)"
   ]
  },
  {
   "cell_type": "code",
   "execution_count": 166,
   "metadata": {},
   "outputs": [
    {
     "name": "stdout",
     "output_type": "stream",
     "text": [
      "{'self': __main__.WidgetDescriptor, 'args': (__main__.LazyType,), 'kwargs': {}}\n",
      "{'self': __main__.Widget,\n",
      " 'args': (),\n",
      " 'kwargs': {},\n",
      " '__class__': __main__.Metaclass}\n",
      "======Metaclass.call is creating an instance of <class '__main__.Widget'>\n"
     ]
    },
    {
     "data": {
      "text/plain": [
       "('Any random object', <__main__.LazyType at 0x7f0926037c90>)"
      ]
     },
     "execution_count": 166,
     "metadata": {},
     "output_type": "execute_result"
    }
   ],
   "source": [
    "LazyType(), LazyType(Widget())"
   ]
  },
  {
   "cell_type": "code",
   "execution_count": 174,
   "metadata": {},
   "outputs": [
    {
     "name": "stdout",
     "output_type": "stream",
     "text": [
      "{'self': __main__.WidgetDescriptor, 'args': (__main__.LazyType,), 'kwargs': {}}\n"
     ]
    },
    {
     "data": {
      "text/plain": [
       "('Any random object', <__main__.LazyType at 0x7f0925ea3050>)"
      ]
     },
     "execution_count": 174,
     "metadata": {},
     "output_type": "execute_result"
    }
   ],
   "source": [
    "class Widget:\n",
    "    lazy_attr = LazyType()\n",
    "    not_so_lazy_attr = LazyType(Widget())\n",
    "    \n",
    "Widget.lazy_attr, Widget.not_so_lazy_attr"
   ]
  },
  {
   "cell_type": "code",
   "execution_count": 29,
   "metadata": {},
   "outputs": [
    {
     "name": "stderr",
     "output_type": "stream",
     "text": [
      "/home/jhenner/work/types_talk/.venv/lib/python3.7/site-packages/ipykernel_launcher.py:29: DeprecationWarning: __class__ not set defining 'MyWidget' as <class '__main__.MyWidget'>. Was __classcell__ propagated to type.__new__?\n"
     ]
    },
    {
     "ename": "TypeError",
     "evalue": "__init__() missing 1 required positional argument: 'klass'",
     "output_type": "error",
     "traceback": [
      "\u001b[0;31m---------------------------------------------------------------------------\u001b[0m",
      "\u001b[0;31mTypeError\u001b[0m                                 Traceback (most recent call last)",
      "\u001b[0;32m<ipython-input-29-b2941b8b05b6>\u001b[0m in \u001b[0;36m<module>\u001b[0;34m\u001b[0m\n\u001b[1;32m     36\u001b[0m \u001b[0;34m\u001b[0m\u001b[0m\n\u001b[1;32m     37\u001b[0m \u001b[0;34m\u001b[0m\u001b[0m\n\u001b[0;32m---> 38\u001b[0;31m \u001b[0;32mclass\u001b[0m \u001b[0mMyView\u001b[0m\u001b[0;34m:\u001b[0m\u001b[0;34m\u001b[0m\u001b[0;34m\u001b[0m\u001b[0m\n\u001b[0m\u001b[1;32m     39\u001b[0m     \u001b[0mthe_attribute\u001b[0m \u001b[0;34m=\u001b[0m \u001b[0mWidgetDescriptor\u001b[0m\u001b[0;34m(\u001b[0m\u001b[0;34m)\u001b[0m\u001b[0;34m\u001b[0m\u001b[0;34m\u001b[0m\u001b[0m\n\u001b[1;32m     40\u001b[0m \u001b[0;34m\u001b[0m\u001b[0m\n",
      "\u001b[0;32m<ipython-input-29-b2941b8b05b6>\u001b[0m in \u001b[0;36mMyView\u001b[0;34m()\u001b[0m\n\u001b[1;32m     37\u001b[0m \u001b[0;34m\u001b[0m\u001b[0m\n\u001b[1;32m     38\u001b[0m \u001b[0;32mclass\u001b[0m \u001b[0mMyView\u001b[0m\u001b[0;34m:\u001b[0m\u001b[0;34m\u001b[0m\u001b[0;34m\u001b[0m\u001b[0m\n\u001b[0;32m---> 39\u001b[0;31m     \u001b[0mthe_attribute\u001b[0m \u001b[0;34m=\u001b[0m \u001b[0mWidgetDescriptor\u001b[0m\u001b[0;34m(\u001b[0m\u001b[0;34m)\u001b[0m\u001b[0;34m\u001b[0m\u001b[0;34m\u001b[0m\u001b[0m\n\u001b[0m\u001b[1;32m     40\u001b[0m \u001b[0;34m\u001b[0m\u001b[0m\n\u001b[1;32m     41\u001b[0m \u001b[0mMyView\u001b[0m\u001b[0;34m.\u001b[0m\u001b[0mthe_attribute\u001b[0m\u001b[0;34m\u001b[0m\u001b[0;34m\u001b[0m\u001b[0m\n",
      "\u001b[0;31mTypeError\u001b[0m: __init__() missing 1 required positional argument: 'klass'"
     ]
    }
   ],
   "source": [
    "from widgetastic_patternfly import View, Widget\n",
    "from IPython.lib.pretty import pprint\n",
    "import inspect\n",
    "\n",
    "\n",
    "class WidgetDescriptor:\n",
    "    def __init__(self, klass, *args, **kwargs):\n",
    "        self.klass = klass\n",
    "        self.args = args\n",
    "        self.kwargs = kwargs\n",
    "        \n",
    "    def __get__(self, owner, owner_class):\n",
    "        if obj is None:  # class access\n",
    "            return self\n",
    "        else:\n",
    "            new_object = self.klass(obj, *args, **kwargs)\n",
    "            return new_object\n",
    "\n",
    "class Meta(type):\n",
    "    def __new__(cls, name, bases, attrs):\n",
    "        new_attrs={}\n",
    "        for key, value in attrs.items():\n",
    "            if inspect.isclass(value) and issubclass(value, View):\n",
    "                new_attrs[key] = WidgetDescriptor(value)\n",
    "\n",
    "        return super(Meta, cls).__new__(cls, name, bases, new_attrs)\n",
    "\n",
    "class MyWidget(metaclass=Meta):\n",
    "    def __new__(self, *args, **kwargs):\n",
    "        if (args and isinstance(args[0], (Widget))) \\\n",
    "                or ('parent' in kwargs and isinstance(kwargs['parent'], (Widget))):\n",
    "            return super().__new__(cls)\n",
    "        else:\n",
    "            return WidgetDescriptor(cls, *args, **kwargs)\n",
    "        \n",
    "        \n",
    "class MyView:\n",
    "    the_attribute = WidgetDescriptor()\n",
    "    \n",
    "MyView.the_attribute\n",
    "MyView().the_attribute"
   ]
  }
 ],
 "metadata": {
  "kernelspec": {
   "display_name": "Python 3",
   "language": "python",
   "name": "python3"
  },
  "language_info": {
   "codemirror_mode": {
    "name": "ipython",
    "version": 3
   },
   "file_extension": ".py",
   "mimetype": "text/x-python",
   "name": "python",
   "nbconvert_exporter": "python",
   "pygments_lexer": "ipython3",
   "version": "3.7.8"
  }
 },
 "nbformat": 4,
 "nbformat_minor": 2
}

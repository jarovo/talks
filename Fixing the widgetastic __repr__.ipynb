{
 "cells": [
  {
   "cell_type": "markdown",
   "metadata": {
    "slideshow": {
     "slide_type": "slide"
    }
   },
   "source": [
    "# A story of weird behavior of Widgetasitc."
   ]
  },
  {
   "cell_type": "markdown",
   "metadata": {
    "slideshow": {
     "slide_type": "slide"
    }
   },
   "source": [
    "## The traceback\n",
    "\n",
    "We got tracebacks like that:\n",
    "```\n",
    "--- Logging error ---\n",
    "Traceback (most recent call last):\n",
    "    \n",
    "...\n",
    "\n",
    "  File \"/home/jhenner/work/widgetastic.patternfly/src/widgetastic_patternfly/__init__.py\", line 348, in __repr__\n",
    "    return '{}({!r})'.format(type(self).__name__, self.locator)\n",
    "AttributeError: 'SettingsNavDropdown' object has no attribute 'locator'\n",
    "Call stack:\n",
    "\n",
    "...\n",
    "  \n",
    "  File \"/home/jhenner/work/miq/http_503_everywhere/.cfme_venv3/lib64/python3.7/site-packages/widgetastic/browser.py\", line 456, in move_to_element\n",
    "    self.logger.debug\n",
    "    ('move_to_element: %r', locator)\n",
    "Unable to print the message and arguments - possible formatting error.\n",
    "Use the traceback above to help find the error.\n",
    "```"
   ]
  },
  {
   "cell_type": "markdown",
   "metadata": {
    "slideshow": {
     "slide_type": "subslide"
    }
   },
   "source": [
    "# What is wrong?\n",
    "Well it takes some reading effort but the important is:\n",
    "\n",
    "```AttributeError: 'SettingsNavDropdown' object has no attribute 'locator'```"
   ]
  },
  {
   "cell_type": "markdown",
   "metadata": {
    "slideshow": {
     "slide_type": "fragment"
    }
   },
   "source": [
    " * The `SettingsNavDropdown` s a descendant of `widgetastic_patternfly.NavDropdown`.\n",
    " * It has no `__repr__` defined, so the `NavDropdown` is what we should look at."
   ]
  },
  {
   "cell_type": "code",
   "execution_count": 36,
   "metadata": {
    "slideshow": {
     "slide_type": "subslide"
    }
   },
   "outputs": [
    {
     "ename": "AttributeError",
     "evalue": "'WidgetDescriptor' object has no attribute 'locator'",
     "output_type": "error",
     "traceback": [
      "\u001b[0;31m---------------------------------------------------------------------------\u001b[0m",
      "\u001b[0;31mAttributeError\u001b[0m                            Traceback (most recent call last)",
      "\u001b[0;32m<ipython-input-36-8536e2e8a11d>\u001b[0m in \u001b[0;36m<module>\u001b[0;34m\u001b[0m\n\u001b[1;32m      1\u001b[0m \u001b[0;32mfrom\u001b[0m \u001b[0mwidgetastic_patternfly\u001b[0m \u001b[0;32mimport\u001b[0m \u001b[0mNavDropdown\u001b[0m\u001b[0;34m\u001b[0m\u001b[0;34m\u001b[0m\u001b[0m\n\u001b[1;32m      2\u001b[0m \u001b[0mnav\u001b[0m \u001b[0;34m=\u001b[0m \u001b[0mNavDropdown\u001b[0m\u001b[0;34m(\u001b[0m\u001b[0;34m)\u001b[0m\u001b[0;34m\u001b[0m\u001b[0;34m\u001b[0m\u001b[0m\n\u001b[0;32m----> 3\u001b[0;31m \u001b[0mnav\u001b[0m\u001b[0;34m.\u001b[0m\u001b[0mlocator\u001b[0m\u001b[0;34m\u001b[0m\u001b[0;34m\u001b[0m\u001b[0m\n\u001b[0m",
      "\u001b[0;31mAttributeError\u001b[0m: 'WidgetDescriptor' object has no attribute 'locator'"
     ]
    }
   ],
   "source": [
    "from widgetastic_patternfly import NavDropdown\n",
    "nav = NavDropdown()\n",
    "nav.locator"
   ]
  },
  {
   "cell_type": "markdown",
   "metadata": {},
   "source": [
    "It trully seem to have no `locator`."
   ]
  },
  {
   "cell_type": "code",
   "execution_count": 103,
   "metadata": {
    "slideshow": {
     "slide_type": "fragment"
    }
   },
   "outputs": [
    {
     "data": {
      "text/plain": [
       "'NavDropdown()'"
      ]
     },
     "execution_count": 103,
     "metadata": {},
     "output_type": "execute_result"
    }
   ],
   "source": [
    "str(NavDropdown())"
   ]
  },
  {
   "cell_type": "markdown",
   "metadata": {
    "slideshow": {
     "slide_type": "-"
    }
   },
   "source": [
    "Well it works just fine... No error. Or does it really?"
   ]
  },
  {
   "cell_type": "code",
   "execution_count": 38,
   "metadata": {
    "slideshow": {
     "slide_type": "subslide"
    }
   },
   "outputs": [
    {
     "data": {
      "text/plain": [
       "<bound method WidgetDescriptor.__repr__ of NavDropdown()>"
      ]
     },
     "execution_count": 38,
     "metadata": {},
     "output_type": "execute_result"
    }
   ],
   "source": [
    "NavDropdown().__repr__"
   ]
  },
  {
   "cell_type": "markdown",
   "metadata": {
    "slideshow": {
     "slide_type": "fragment"
    }
   },
   "source": [
    "Hmm nothing specia... **wait what?! ... `WidgetDescriptor`**? I've just created **`NavDropDown`!** ... Or didn't I ?"
   ]
  },
  {
   "cell_type": "code",
   "execution_count": 104,
   "metadata": {
    "slideshow": {
     "slide_type": "fragment"
    }
   },
   "outputs": [
    {
     "data": {
      "text/plain": [
       "widgetastic.widget.base.WidgetDescriptor"
      ]
     },
     "execution_count": 104,
     "metadata": {},
     "output_type": "execute_result"
    }
   ],
   "source": [
    "type(NavDropdown())"
   ]
  },
  {
   "cell_type": "markdown",
   "metadata": {
    "slideshow": {
     "slide_type": "fragment"
    }
   },
   "source": [
    "I have checked the `NavDropdown` soure. There was **nothing suspiccious** about it."
   ]
  },
  {
   "cell_type": "markdown",
   "metadata": {
    "slideshow": {
     "slide_type": "subslide"
    }
   },
   "source": [
    "Until I have seen:\n",
    "\n",
    "```python\n",
    "Init signature: Widget(*args, **kwargs)\n",
    "Source:        \n",
    "class Widget(object, metaclass=WidgetMetaclass):\n",
    "    \"\"\"Base class for all UI objects.\n",
    "\n",
    "    Does couple of things:\n",
    "\n",
    "        * Ensures it gets instantiated with a browser or another widget as parent. If you create an\n",
    "          instance in a class, it then creates a :py:class:`WidgetDescriptor` which is then invoked\n",
    "          on the instance and instantiates the widget with underlying browser.\n",
    "        * Implements some basic interface for all widgets.\n",
    "        \n",
    "    If you are inheriting from this class, you **MUST ALWAYS** ensure that the inherited class\n",
    "    has an init that always takes the ``parent`` as the first argument. You can do that on your\n",
    "    own, setting the parent as ``self.parent`` or you can do something like this:        \n",
    "    \n",
    "   .. code-block:: python\n",
    "\n",
    "        def __init__(self, parent, arg1, arg2, logger=None):\n",
    "            super(MyClass, self).__init__(parent, logger=logger)\n",
    "            # or if you have somehow complex inheritance ...\n",
    "            Widget.__init__(self, parent, logger=logger)\n",
    "\n",
    "```"
   ]
  },
  {
   "cell_type": "markdown",
   "metadata": {
    "slideshow": {
     "slide_type": "slide"
    }
   },
   "source": [
    "# The magic of widgetastic"
   ]
  },
  {
   "cell_type": "code",
   "execution_count": 2,
   "metadata": {
    "slideshow": {
     "slide_type": "-"
    }
   },
   "outputs": [
    {
     "data": {
      "text/plain": [
       "widgetastic.widget.base.WidgetDescriptor"
      ]
     },
     "execution_count": 2,
     "metadata": {},
     "output_type": "execute_result"
    }
   ],
   "source": [
    "from widgetastic_patternfly import NavDropdown, View\n",
    "\n",
    "class MyView(View):\n",
    "    widget = NavDropdown()\n",
    "\n",
    "type(MyView.widget)"
   ]
  },
  {
   "cell_type": "markdown",
   "metadata": {
    "slideshow": {
     "slide_type": "subslide"
    }
   },
   "source": [
    "## After som more time reading the sources..."
   ]
  },
  {
   "cell_type": "markdown",
   "metadata": {
    "slideshow": {
     "slide_type": "fragment"
    }
   },
   "source": [
    " * **Perhaps** I need to instantiate the View\n",
    " * I need a `Browser` intance to do it.\n",
    " * There were some problems to do it, but today I new I can just use `MagicMock`."
   ]
  },
  {
   "cell_type": "code",
   "execution_count": 3,
   "metadata": {
    "slideshow": {
     "slide_type": "subslide"
    }
   },
   "outputs": [
    {
     "data": {
      "text/plain": [
       "widgetastic_patternfly.NavDropdown"
      ]
     },
     "execution_count": 3,
     "metadata": {},
     "output_type": "execute_result"
    }
   ],
   "source": [
    "from widgetastic.browser import Browser\n",
    "from unittest.mock import MagicMock\n",
    "\n",
    "selenium_mock = MagicMock()\n",
    "view = MyView(Browser(selenium_mock))\n",
    "type(view.widget)"
   ]
  },
  {
   "cell_type": "markdown",
   "metadata": {
    "slideshow": {
     "slide_type": "fragment"
    }
   },
   "source": [
    "**Looks promissing!** We sucessfully created a real `NavDropdown`. Let's try it fails:"
   ]
  },
  {
   "cell_type": "markdown",
   "metadata": {
    "slideshow": {
     "slide_type": "fragment"
    }
   },
   "source": [
    "```python\n",
    "view.widget\n",
    "\n",
    "---------------------------------------------------------------------------\n",
    "AttributeError                            Traceback (most recent call last)\n",
    "\n",
    "~/work/types_talk/.venv/lib/python3.7/site-packages/widgetastic_patternfly/__init__.py in __repr__(self)\n",
    "    346 \n",
    "    347     def __repr__(self):\n",
    "--> 348         return '{}({!r})'.format(type(self).__name__, self.locator)\n",
    "    349 \n",
    "    350 \n",
    "\n",
    "AttributeError: 'NavDropdown' object has no attribute 'locator'\n",
    "```"
   ]
  },
  {
   "cell_type": "markdown",
   "metadata": {
    "slideshow": {
     "slide_type": "fragment"
    }
   },
   "source": [
    "**OMG! OMG! OMG! OMG! It did Fail**. Let's fix it using some mokey-patching."
   ]
  },
  {
   "cell_type": "code",
   "execution_count": 91,
   "metadata": {
    "slideshow": {
     "slide_type": "slide"
    }
   },
   "outputs": [
    {
     "data": {
      "text/plain": [
       "The fixed NavDropdown __repr__"
      ]
     },
     "execution_count": 91,
     "metadata": {},
     "output_type": "execute_result"
    }
   ],
   "source": [
    "def __repr__(self):\n",
    "    return 'The fixed NavDropdown __repr__'\n",
    "\n",
    "NavDropdown.__broken_repr__ = NavDropdown.__repr__ \n",
    "NavDropdown.__repr__ = __repr__\n",
    "\n",
    "class MyView(View):\n",
    "    widget = NavDropdown()\n",
    "\n",
    "view = MyView(Browser(MagicMock()))\n",
    "view.widget"
   ]
  },
  {
   "cell_type": "markdown",
   "metadata": {
    "slideshow": {
     "slide_type": "subslide"
    }
   },
   "source": [
    "## What is happening:\n",
    " * The `Widget()` doesn't crate a object of class `Widget`, but a `WidgetDescriptor` object.\n",
    " * So the real `Widget` instantiation is delayed to the point of accessing the `WidgetDescriptor` object **inside of the `View` object**"
   ]
  },
  {
   "cell_type": "markdown",
   "metadata": {
    "slideshow": {
     "slide_type": "fragment"
    }
   },
   "source": [
    "I have got the\n",
    " * reproducer\n",
    " * the fix"
   ]
  },
  {
   "cell_type": "markdown",
   "metadata": {
    "slideshow": {
     "slide_type": "slide"
    }
   },
   "source": [
    "# Making a test for `__repr__`\n",
    " * There is **lots of `Widget` descendants** defined in the wrapanapi.\n",
    " * The wrapanapi is **quite intricated** pile of **Metaclass** magic **Descriptors** and dynamic code smells like `isinstance` and `hassattr`. I should make a test the __str__ and __repr__ of all the classes it exports. But how?\n"
   ]
  },
  {
   "cell_type": "markdown",
   "metadata": {
    "slideshow": {
     "slide_type": "fragment"
    }
   },
   "source": [
    "```python\n",
    "from widgetastic_patternfly import View, Button, Kebab, Text, ...\n",
    "def test_str(browser):\n",
    "    class TestView(View):\n",
    "        any_button = Button()  # will pick up first button...\n",
    "        button1 = Button('Default Normal')\n",
    "        button2 = Button(title='Destructive title')\n",
    "        button3 = Button(title='noText', classes=[Button.PRIMARY])\n",
    "        kebab = Kebab(...)\n",
    "        kebab2 = Kebab(id=\"\")\n",
    "        ...\n",
    "    view = TestView(browser)\n",
    "    for widget in view.any_button, view.button1, view.button2, view.button3, ...:\n",
    "        assert type(str(widget)) is str\n",
    "```\n",
    "\n",
    "Not great heh... mainly there is **no guarantee that newly defined class will get tested.**\n"
   ]
  },
  {
   "cell_type": "markdown",
   "metadata": {
    "slideshow": {
     "slide_type": "slide"
    }
   },
   "source": [
    "# Reuse the View for all Widgets?\n",
    " * Well I learned something about what happens **behind the seens** of Python types and classes.\n",
    " * We can create the `View` in some dynamic way -- We **don't need to reuse** one `View` which may be dangerous."
   ]
  },
  {
   "cell_type": "code",
   "execution_count": 119,
   "metadata": {
    "slideshow": {
     "slide_type": "fragment"
    }
   },
   "outputs": [
    {
     "data": {
      "text/plain": [
       "__main__.make_me_a_class.<locals>.OrdinaryType"
      ]
     },
     "execution_count": 119,
     "metadata": {},
     "output_type": "execute_result"
    }
   ],
   "source": [
    "def make_me_a_class(bases=tuple(), kw={}):\n",
    "    class OrdinaryType(*bases, **kw):\n",
    "        some_attribute = \"attribute_value\"\n",
    "    # We can just set the attrs with setattr dynamically...\n",
    "    return OrdinaryType\n",
    "\n",
    "make_me_a_class((View,))"
   ]
  },
  {
   "cell_type": "markdown",
   "metadata": {
    "slideshow": {
     "slide_type": "fragment"
    }
   },
   "source": [
    "We just created a type/class well let's say **in bit more dynamic way**.\n"
   ]
  },
  {
   "cell_type": "code",
   "execution_count": 120,
   "metadata": {
    "slideshow": {
     "slide_type": "fragment"
    }
   },
   "outputs": [
    {
     "data": {
      "text/plain": [
       "widgetastic.widget.base.TheTestView"
      ]
     },
     "execution_count": 120,
     "metadata": {},
     "output_type": "execute_result"
    }
   ],
   "source": [
    "DynamicType = type('TheTestView',\n",
    "                   (View,),\n",
    "                   dict(some_attribute=\"attribute value\"))\n",
    "DynamicType"
   ]
  },
  {
   "cell_type": "code",
   "execution_count": 121,
   "metadata": {
    "slideshow": {
     "slide_type": "fragment"
    }
   },
   "outputs": [
    {
     "data": {
      "text/plain": [
       "widgetastic.widget.base.TypesTestClass"
      ]
     },
     "execution_count": 121,
     "metadata": {},
     "output_type": "execute_result"
    }
   ],
   "source": [
    "import types\n",
    "\n",
    "TypesType = types.new_class(\"TypesTestClass\",\n",
    "                            bases=(View,),\n",
    "                            kwds=None,\n",
    "                            exec_body=lambda ns: ns.update(dict(some_attribute=\"attribute_value\")))\n",
    "TypesType"
   ]
  },
  {
   "cell_type": "markdown",
   "metadata": {
    "slideshow": {
     "slide_type": "subslide"
    }
   },
   "source": [
    "So there are **three ways to create a new type/class in Python.**"
   ]
  },
  {
   "cell_type": "code",
   "execution_count": 122,
   "metadata": {},
   "outputs": [
    {
     "data": {
      "text/plain": [
       "('__main__', 'widgetastic.widget.base', 'widgetastic.widget.base')"
      ]
     },
     "execution_count": 122,
     "metadata": {},
     "output_type": "execute_result"
    }
   ],
   "source": [
    "OrdinaryType.__module__, DynamicType.__module__, TypesType.__module__"
   ]
  },
  {
   "cell_type": "markdown",
   "metadata": {},
   "source": [
    " This is just a small difference of the behavior. that may bite you some day. Otherwise the **results are the same**\n"
   ]
  },
  {
   "cell_type": "markdown",
   "metadata": {
    "slideshow": {
     "slide_type": "slide"
    }
   },
   "source": [
    "# Getting all the Widgets\n",
    "To do that, I used `inspect`."
   ]
  },
  {
   "cell_type": "code",
   "execution_count": 180,
   "metadata": {
    "slideshow": {
     "slide_type": "subslide"
    }
   },
   "outputs": [
    {
     "data": {
      "text/plain": [
       "[('AboutModal', AboutModal()),\n",
       " ('Accordion', Accordion()),\n",
       " ('AggregateStatusCard', AggregateStatusCard()),\n",
       " ('AggregateStatusMiniCard', AggregateStatusMiniCard()),\n",
       " ('BarChart', BarChart())]"
      ]
     },
     "execution_count": 180,
     "metadata": {},
     "output_type": "execute_result"
    }
   ],
   "source": [
    "import inspect\n",
    "import widgetastic_patternfly\n",
    "from widgetastic_patternfly import Widget\n",
    "\n",
    "widget_descriptors = {name: cls() for name, cls\n",
    "        in inspect.getmembers(widgetastic_patternfly)\n",
    "        if inspect.isclass(cls) and issubclass(cls, Widget)  # Some filtering to get the Widget's descendants only. \n",
    "}\n",
    "\n",
    "list(widget_descriptors.items())[:5]"
   ]
  },
  {
   "cell_type": "markdown",
   "metadata": {
    "slideshow": {
     "slide_type": "subslide"
    }
   },
   "source": [
    "Let's try to stringify them all:"
   ]
  },
  {
   "cell_type": "code",
   "execution_count": 181,
   "metadata": {},
   "outputs": [
    {
     "name": "stdout",
     "output_type": "stream",
     "text": [
      "AboutModal()                   AboutModal()                   <class 'widgetastic.widget.base.WidgetDescriptor'>\n",
      "Accordion()                    Accordion()                    <class 'widgetastic.widget.base.WidgetDescriptor'>\n",
      "AggregateStatusCard()          AggregateStatusCard()          <class 'widgetastic.widget.base.WidgetDescriptor'>\n",
      "AggregateStatusMiniCard()      AggregateStatusMiniCard()      <class 'widgetastic.widget.base.WidgetDescriptor'>\n",
      "BarChart()                     BarChart()                     <class 'widgetastic.widget.base.WidgetDescriptor'>\n"
     ]
    }
   ],
   "source": [
    "for obj in list(widget_descriptors.values())[:5]:\n",
    "    print(f\"{str(obj):<30} {repr(obj):<30} {type(obj)}\")"
   ]
  },
  {
   "cell_type": "markdown",
   "metadata": {
    "slideshow": {
     "slide_type": "fragment"
    }
   },
   "source": [
    "* It did work. But we were stringifying the **`Descriptor`s**.\n",
    "* We need to put the `Descriptor`s to the `View`. When accessing them, \"*they become the `Widget`*\"."
   ]
  },
  {
   "cell_type": "code",
   "execution_count": 177,
   "metadata": {
    "slideshow": {
     "slide_type": "fragment"
    }
   },
   "outputs": [],
   "source": [
    "TestView = type('TheTestView', (View,), widget_objects)"
   ]
  },
  {
   "cell_type": "code",
   "execution_count": 182,
   "metadata": {
    "collapsed": true
   },
   "outputs": [
    {
     "ename": "TypeError",
     "evalue": "__init__() missing 1 required positional argument: 'name'",
     "output_type": "error",
     "traceback": [
      "\u001b[0;31m---------------------------------------------------------------------------\u001b[0m",
      "\u001b[0;31mTypeError\u001b[0m                                 Traceback (most recent call last)",
      "\u001b[0;32m<ipython-input-182-9907c074e779>\u001b[0m in \u001b[0;36m<module>\u001b[0;34m\u001b[0m\n\u001b[1;32m      1\u001b[0m \u001b[0mthe_view\u001b[0m \u001b[0;34m=\u001b[0m \u001b[0mTestView\u001b[0m\u001b[0;34m(\u001b[0m\u001b[0mBrowser\u001b[0m\u001b[0;34m(\u001b[0m\u001b[0mMagicMock\u001b[0m\u001b[0;34m(\u001b[0m\u001b[0;34m)\u001b[0m\u001b[0;34m)\u001b[0m\u001b[0;34m)\u001b[0m\u001b[0;34m\u001b[0m\u001b[0;34m\u001b[0m\u001b[0m\n\u001b[1;32m      2\u001b[0m \u001b[0;34m\u001b[0m\u001b[0m\n\u001b[0;32m----> 3\u001b[0;31m \u001b[0;32mfor\u001b[0m \u001b[0mobj\u001b[0m \u001b[0;32min\u001b[0m \u001b[0mthe_view\u001b[0m\u001b[0;34m.\u001b[0m\u001b[0msub_widgets\u001b[0m\u001b[0;34m:\u001b[0m\u001b[0;34m\u001b[0m\u001b[0;34m\u001b[0m\u001b[0m\n\u001b[0m\u001b[1;32m      4\u001b[0m     \u001b[0mprint\u001b[0m\u001b[0;34m(\u001b[0m\u001b[0mobj\u001b[0m\u001b[0;34m)\u001b[0m\u001b[0;34m\u001b[0m\u001b[0;34m\u001b[0m\u001b[0m\n",
      "\u001b[0;32m~/work/types_talk/.venv/lib/python3.7/site-packages/widgetastic/widget/base.py\u001b[0m in \u001b[0;36msub_widgets\u001b[0;34m(self)\u001b[0m\n\u001b[1;32m    613\u001b[0m             \u001b[0mA\u001b[0m \u001b[0;34m:\u001b[0m\u001b[0mpy\u001b[0m\u001b[0;34m:\u001b[0m\u001b[0;32mclass\u001b[0m\u001b[0;34m:\u001b[0m\u001b[0;31m`\u001b[0m\u001b[0mlist\u001b[0m\u001b[0;31m`\u001b[0m \u001b[0mof\u001b[0m \u001b[0;34m:\u001b[0m\u001b[0mpy\u001b[0m\u001b[0;34m:\u001b[0m\u001b[0;32mclass\u001b[0m\u001b[0;34m:\u001b[0m\u001b[0;31m`\u001b[0m\u001b[0mWidget\u001b[0m\u001b[0;31m`\u001b[0m\u001b[0;34m\u001b[0m\u001b[0;34m\u001b[0m\u001b[0m\n\u001b[1;32m    614\u001b[0m         \"\"\"\n\u001b[0;32m--> 615\u001b[0;31m         \u001b[0;32mreturn\u001b[0m \u001b[0;34m[\u001b[0m\u001b[0mgetattr\u001b[0m\u001b[0;34m(\u001b[0m\u001b[0mself\u001b[0m\u001b[0;34m,\u001b[0m \u001b[0mwidget_name\u001b[0m\u001b[0;34m)\u001b[0m \u001b[0;32mfor\u001b[0m \u001b[0mwidget_name\u001b[0m \u001b[0;32min\u001b[0m \u001b[0mself\u001b[0m\u001b[0;34m.\u001b[0m\u001b[0mwidget_names\u001b[0m\u001b[0;34m]\u001b[0m\u001b[0;34m\u001b[0m\u001b[0;34m\u001b[0m\u001b[0m\n\u001b[0m\u001b[1;32m    616\u001b[0m \u001b[0;34m\u001b[0m\u001b[0m\n\u001b[1;32m    617\u001b[0m     \u001b[0;34m@\u001b[0m\u001b[0mproperty\u001b[0m\u001b[0;34m\u001b[0m\u001b[0;34m\u001b[0m\u001b[0m\n",
      "\u001b[0;32m~/work/types_talk/.venv/lib/python3.7/site-packages/widgetastic/widget/base.py\u001b[0m in \u001b[0;36m<listcomp>\u001b[0;34m(.0)\u001b[0m\n\u001b[1;32m    613\u001b[0m             \u001b[0mA\u001b[0m \u001b[0;34m:\u001b[0m\u001b[0mpy\u001b[0m\u001b[0;34m:\u001b[0m\u001b[0;32mclass\u001b[0m\u001b[0;34m:\u001b[0m\u001b[0;31m`\u001b[0m\u001b[0mlist\u001b[0m\u001b[0;31m`\u001b[0m \u001b[0mof\u001b[0m \u001b[0;34m:\u001b[0m\u001b[0mpy\u001b[0m\u001b[0;34m:\u001b[0m\u001b[0;32mclass\u001b[0m\u001b[0;34m:\u001b[0m\u001b[0;31m`\u001b[0m\u001b[0mWidget\u001b[0m\u001b[0;31m`\u001b[0m\u001b[0;34m\u001b[0m\u001b[0;34m\u001b[0m\u001b[0m\n\u001b[1;32m    614\u001b[0m         \"\"\"\n\u001b[0;32m--> 615\u001b[0;31m         \u001b[0;32mreturn\u001b[0m \u001b[0;34m[\u001b[0m\u001b[0mgetattr\u001b[0m\u001b[0;34m(\u001b[0m\u001b[0mself\u001b[0m\u001b[0;34m,\u001b[0m \u001b[0mwidget_name\u001b[0m\u001b[0;34m)\u001b[0m \u001b[0;32mfor\u001b[0m \u001b[0mwidget_name\u001b[0m \u001b[0;32min\u001b[0m \u001b[0mself\u001b[0m\u001b[0;34m.\u001b[0m\u001b[0mwidget_names\u001b[0m\u001b[0;34m]\u001b[0m\u001b[0;34m\u001b[0m\u001b[0;34m\u001b[0m\u001b[0m\n\u001b[0m\u001b[1;32m    616\u001b[0m \u001b[0;34m\u001b[0m\u001b[0m\n\u001b[1;32m    617\u001b[0m     \u001b[0;34m@\u001b[0m\u001b[0mproperty\u001b[0m\u001b[0;34m\u001b[0m\u001b[0;34m\u001b[0m\u001b[0m\n",
      "\u001b[0;32m~/work/types_talk/.venv/lib/python3.7/site-packages/widgetastic/widget/base.py\u001b[0m in \u001b[0;36m__get__\u001b[0;34m(self, obj, type)\u001b[0m\n\u001b[1;32m    125\u001b[0m                 \u001b[0;32mreturn\u001b[0m \u001b[0mreq\u001b[0m\u001b[0;34m\u001b[0m\u001b[0;34m\u001b[0m\u001b[0m\n\u001b[1;32m    126\u001b[0m             \u001b[0;32melse\u001b[0m\u001b[0;34m:\u001b[0m\u001b[0;34m\u001b[0m\u001b[0;34m\u001b[0m\u001b[0m\n\u001b[0;32m--> 127\u001b[0;31m                 \u001b[0mo\u001b[0m \u001b[0;34m=\u001b[0m \u001b[0mself\u001b[0m\u001b[0;34m.\u001b[0m\u001b[0mklass\u001b[0m\u001b[0;34m(\u001b[0m\u001b[0mobj\u001b[0m\u001b[0;34m,\u001b[0m \u001b[0;34m*\u001b[0m\u001b[0margs\u001b[0m\u001b[0;34m,\u001b[0m \u001b[0;34m**\u001b[0m\u001b[0mkwargs\u001b[0m\u001b[0;34m)\u001b[0m\u001b[0;34m\u001b[0m\u001b[0;34m\u001b[0m\u001b[0m\n\u001b[0m\u001b[1;32m    128\u001b[0m                 \u001b[0mo\u001b[0m\u001b[0;34m.\u001b[0m\u001b[0mparent_descriptor\u001b[0m \u001b[0;34m=\u001b[0m \u001b[0mself\u001b[0m\u001b[0;34m\u001b[0m\u001b[0;34m\u001b[0m\u001b[0m\n\u001b[1;32m    129\u001b[0m                 \u001b[0mobj\u001b[0m\u001b[0;34m.\u001b[0m\u001b[0m_widget_cache\u001b[0m\u001b[0;34m[\u001b[0m\u001b[0mself\u001b[0m\u001b[0;34m]\u001b[0m \u001b[0;34m=\u001b[0m \u001b[0mo\u001b[0m\u001b[0;34m\u001b[0m\u001b[0;34m\u001b[0m\u001b[0m\n",
      "\u001b[0;32m~/work/types_talk/.venv/lib/python3.7/site-packages/widgetastic/widget/base.py\u001b[0m in \u001b[0;36mwrapped\u001b[0;34m(self, *args, **kwargs)\u001b[0m\n\u001b[1;32m     65\u001b[0m         \u001b[0mnew_kwargs\u001b[0m \u001b[0;34m=\u001b[0m \u001b[0;34m{\u001b[0m\u001b[0mkey\u001b[0m\u001b[0;34m:\u001b[0m \u001b[0mresolve_arg\u001b[0m\u001b[0;34m(\u001b[0m\u001b[0mparent\u001b[0m\u001b[0;34m,\u001b[0m \u001b[0mvalue\u001b[0m\u001b[0;34m)\u001b[0m \u001b[0;32mfor\u001b[0m \u001b[0mkey\u001b[0m\u001b[0;34m,\u001b[0m \u001b[0mvalue\u001b[0m \u001b[0;32min\u001b[0m \u001b[0mkwargs\u001b[0m\u001b[0;34m.\u001b[0m\u001b[0mitems\u001b[0m\u001b[0;34m(\u001b[0m\u001b[0;34m)\u001b[0m\u001b[0;34m}\u001b[0m\u001b[0;34m\u001b[0m\u001b[0;34m\u001b[0m\u001b[0m\n\u001b[1;32m     66\u001b[0m \u001b[0;34m\u001b[0m\u001b[0m\n\u001b[0;32m---> 67\u001b[0;31m         \u001b[0;32mreturn\u001b[0m \u001b[0mmethod\u001b[0m\u001b[0;34m(\u001b[0m\u001b[0mself\u001b[0m\u001b[0;34m,\u001b[0m \u001b[0;34m*\u001b[0m\u001b[0mnew_args\u001b[0m\u001b[0;34m,\u001b[0m \u001b[0;34m**\u001b[0m\u001b[0mnew_kwargs\u001b[0m\u001b[0;34m)\u001b[0m\u001b[0;34m\u001b[0m\u001b[0;34m\u001b[0m\u001b[0m\n\u001b[0m\u001b[1;32m     68\u001b[0m     \u001b[0;32mreturn\u001b[0m \u001b[0mwrapped\u001b[0m\u001b[0;34m\u001b[0m\u001b[0;34m\u001b[0m\u001b[0m\n\u001b[1;32m     69\u001b[0m \u001b[0;34m\u001b[0m\u001b[0m\n",
      "\u001b[0;31mTypeError\u001b[0m: __init__() missing 1 required positional argument: 'name'"
     ]
    }
   ],
   "source": [
    "the_view = TestView(Browser(MagicMock()))\n",
    "\n",
    "for obj in the_view.sub_widgets:\n",
    "    print(obj)"
   ]
  },
  {
   "cell_type": "markdown",
   "metadata": {
    "slideshow": {
     "slide_type": "subslide"
    }
   },
   "source": [
    "```python\n",
    "for obj in the_view.sub_widgets:\n",
    "    print(obj)\n",
    "\n",
    "...\n",
    "\n",
    "~/work/types_talk/.venv/lib/python3.7/site-packages/widgetastic/widget/base.py in wrapped(self, *args, **kwargs)\n",
    "     65         new_kwargs = {key: resolve_arg(parent, value) for key, value in kwargs.items()}\n",
    "     66 \n",
    "---> 67         return method(self, *new_args, **new_kwargs)\n",
    "     68     return wrapped\n",
    "     69 \n",
    "\n",
    "TypeError: __init__() missing 1 required positional argument: 'name'\n",
    "```\n",
    "\n",
    "Didn't work too well. Some needs to be initialized with proper args."
   ]
  },
  {
   "cell_type": "code",
   "execution_count": 186,
   "metadata": {
    "slideshow": {
     "slide_type": "subslide"
    }
   },
   "outputs": [
    {
     "name": "stdout",
     "output_type": "stream",
     "text": [
      "<widgetastic_patternfly.AggregateStatusCard object at 0x7ff7768be1d0>\n",
      "<widgetastic_patternfly.AggregateStatusMiniCard object at 0x7ff776880710>\n",
      "<widgetastic_patternfly.BarChart object at 0x7ff776880790>\n",
      "BootstrapNav('dummy')\n",
      "The fixed NavDropdown __repr__\n"
     ]
    }
   ],
   "source": [
    "import widgetastic_patternfly as wp\n",
    "DUMMY = \"dummy\"\n",
    "\n",
    "init_values = {\n",
    "    wp.AggregateStatusCard: dict(name=DUMMY),\n",
    "    wp.AggregateStatusMiniCard: dict(name=DUMMY, locator=DUMMY),\n",
    "    wp.BarChart: dict(id=DUMMY),\n",
    "    wp.BootstrapNav: dict(locator=DUMMY),\n",
    "    wp.NavDropdown: dict()\n",
    "}\n",
    "\n",
    "initiable_widget_descriptors = {\n",
    "    name: cls(**init_values[cls])\n",
    "    for name, cls in inspect.getmembers(widgetastic_patternfly)\n",
    "    if inspect.isclass(cls) and issubclass(cls, Widget) and cls in init_values}\n",
    "\n",
    "TestView = type('TheTestView', (View,), initiable_widget_descriptors)\n",
    "the_view = TestView(Browser(MagicMock()))\n",
    "\n",
    "for widget in the_view.sub_widgets:\n",
    "    assert isinstance(widget, Widget)\n",
    "    print(str(widget))"
   ]
  },
  {
   "cell_type": "markdown",
   "metadata": {
    "slideshow": {
     "slide_type": "slide"
    }
   },
   "source": [
    "# Inspect and annotations"
   ]
  },
  {
   "cell_type": "code",
   "execution_count": 187,
   "metadata": {},
   "outputs": [
    {
     "data": {
      "text/plain": [
       "<Signature (self, parent, id=None, logger=None)>"
      ]
     },
     "execution_count": 187,
     "metadata": {},
     "output_type": "execute_result"
    }
   ],
   "source": [
    "import inspect\n",
    "inspect.signature(widgetastic_patternfly.NavDropdown.__init__)"
   ]
  },
  {
   "cell_type": "code",
   "execution_count": 29,
   "metadata": {
    "slideshow": {
     "slide_type": "fragment"
    }
   },
   "outputs": [
    {
     "data": {
      "text/plain": [
       "(mappingproxy({'a': <Parameter \"a: str\">,\n",
       "               'b': <Parameter \"b: Dict[str, int] = {}\">}),\n",
       " int)"
      ]
     },
     "execution_count": 29,
     "metadata": {},
     "output_type": "execute_result"
    }
   ],
   "source": [
    "from typing import Dict\n",
    "\n",
    "def foo(a: str, b:Dict[str, int]={}) -> int: pass\n",
    "sig = inspect.signature(foo)\n",
    "sig.parameters, sig.return_annotation"
   ]
  },
  {
   "cell_type": "code",
   "execution_count": 30,
   "metadata": {
    "slideshow": {
     "slide_type": "slide"
    }
   },
   "outputs": [
    {
     "data": {
      "text/plain": [
       "(str, int)"
      ]
     },
     "execution_count": 30,
     "metadata": {},
     "output_type": "execute_result"
    }
   ],
   "source": [
    "try:\n",
    "    from typing import get_args\n",
    "except ImportError:\n",
    "    def get_args(t):\n",
    "        return t.__args__\n",
    "\n",
    "\n",
    "get_args(sig.parameters['b'].annotation)"
   ]
  },
  {
   "cell_type": "code",
   "execution_count": 31,
   "metadata": {},
   "outputs": [
    {
     "data": {
      "text/plain": [
       "(~T, NoneType)"
      ]
     },
     "execution_count": 31,
     "metadata": {},
     "output_type": "execute_result"
    }
   ],
   "source": [
    "from typing import Dict, TypeVar, T, Optional\n",
    "\n",
    "def foo(a: Optional[T]) -> T: pass\n",
    "inspect.signature(foo).parameters['a'].annotation.__args__"
   ]
  },
  {
   "cell_type": "markdown",
   "metadata": {
    "slideshow": {
     "slide_type": "slide"
    }
   },
   "source": [
    "# TypesFulfill"
   ]
  },
  {
   "cell_type": "code",
   "execution_count": null,
   "metadata": {},
   "outputs": [],
   "source": [
    "class Name():\n",
    "    pass\n",
    "\n",
    "\n",
    "class Fixture:\n",
    "    def __init__(self, name: Name):\n",
    "        self.name = name\n",
    "        pass\n",
    "    \n",
    "    def __repr__(self):\n",
    "        return str(self.name)\n",
    "\n",
    "def tester(f):\n",
    "    sig = inspect.signature(f)\n",
    "    bound = sig.bind(**{n: tester(p.annotation) for n, p in sig.parameters.items()})\n",
    "    print(bound)\n",
    "    return f(*bound.args, **bound.kwargs)\n",
    "        \n",
    "    \n",
    "def test_it(name: Name, fixture: Fixture, aaa=\"ddd\"):\n",
    "    assert fixture\n",
    "    assert isinstance(name, Name)\n",
    "    return \"PASSED\", name, fixture, aaa\n",
    "\n",
    "tester(test_it)"
   ]
  },
  {
   "cell_type": "code",
   "execution_count": null,
   "metadata": {},
   "outputs": [],
   "source": [
    "from IPython.lib.pretty import pprint\n",
    "\n",
    "class WidgetDescriptor:\n",
    "    def __new__(self, *args, **kwargs):\n",
    "        pprint(locals())\n",
    "        return \"Any random object\"\n",
    "    \n",
    "\n",
    "class MyView:\n",
    "    the_attribute = WidgetDescriptor(\"arg\", foo=\"kwarg\")\n",
    "    \n",
    "MyView.the_attribute, MyView().the_attribute"
   ]
  },
  {
   "cell_type": "code",
   "execution_count": null,
   "metadata": {},
   "outputs": [],
   "source": [
    "from IPython.lib.pretty import pprint\n",
    "\n",
    "class Metaclass(type): \n",
    "    def __new__(cls, name, bases, attrs):\n",
    "        \"\"\"\n",
    "        Crates new type\n",
    "        \"\"\"\n",
    "        print(f\"======Metaclass.new is creating a type named {name}\")\n",
    "        pprint(locals())\n",
    "\n",
    "    def __call__(self, *args, **kwargs):\n",
    "        \"\"\"\n",
    "        Instantiates the class to an object\n",
    "        \"\"\"\n",
    "        pprint(locals())\n",
    "        print(f\"======Metaclass.call is creating an instance of {self}\")\n",
    "        obj = super().__call__(*args, **kwargs)\n",
    "        assert isinstance(obj, object)\n",
    "        return obj\n",
    "\n",
    "    def __init__(self, *args, **kwargs):\n",
    "        \"\"\"\n",
    "        Fills the __dict__\n",
    "        \"\"\"\n",
    "        print(f\"=====Metaclass.init lets the {self} modify itself.\")\n",
    "        pprint(locals())\n",
    "        \n",
    "        \n",
    "class WidgetDescriptor:\n",
    "    \"\"\"This class handles instantiating and caching of the widgets on view.\n",
    "\n",
    "    It stores the class and the parameters it should be instantiated with. Once it is accessed from\n",
    "    the instance of the class where it was defined on, it passes the instance to the widget class\n",
    "    followed by args and then kwargs.\n",
    "\n",
    "    It also acts as a counter, so you can then order the widgets by their \"creation\" stamp.\n",
    "    \"\"\"\n",
    "    def __init__(self, klass, *args, **kwargs):\n",
    "        self.klass = klass\n",
    "        self.args = args\n",
    "        self.kwargs = kwargs\n",
    "        \n",
    "        \n",
    "class Widget(metaclass=Metaclass):\n",
    "    foo = Widget()\n",
    "    \n",
    "Widget.container"
   ]
  },
  {
   "cell_type": "code",
   "execution_count": null,
   "metadata": {},
   "outputs": [],
   "source": [
    "class View(Widget):\n",
    "    attribute = \"content\""
   ]
  },
  {
   "cell_type": "code",
   "execution_count": null,
   "metadata": {},
   "outputs": [],
   "source": [
    "class LazyType:\n",
    "    def __new__(cls, *args, **kwargs):\n",
    "        container = Widget\n",
    "        if (args and isinstance(args[0], container)) \\\n",
    "                or (isinstance(kwargs.get('parent', None), container)):\n",
    "            return super().__new__(cls)\n",
    "        else:\n",
    "            return WidgetDescriptor(cls, *args, **kwargs)"
   ]
  },
  {
   "cell_type": "code",
   "execution_count": null,
   "metadata": {},
   "outputs": [],
   "source": [
    "LazyType(), LazyType(Widget())"
   ]
  },
  {
   "cell_type": "code",
   "execution_count": null,
   "metadata": {},
   "outputs": [],
   "source": [
    "class Widget:\n",
    "    lazy_attr = LazyType()\n",
    "    not_so_lazy_attr = LazyType(Widget())\n",
    "    \n",
    "Widget.lazy_attr, Widget.not_so_lazy_attr"
   ]
  },
  {
   "cell_type": "code",
   "execution_count": null,
   "metadata": {},
   "outputs": [],
   "source": [
    "from widgetastic_patternfly import View, Widget\n",
    "from IPython.lib.pretty import pprint\n",
    "import inspect\n",
    "\n",
    "\n",
    "class WidgetDescriptor:\n",
    "    def __init__(self, klass, *args, **kwargs):\n",
    "        self.klass = klass\n",
    "        self.args = args\n",
    "        self.kwargs = kwargs\n",
    "        \n",
    "    def __get__(self, owner, owner_class):\n",
    "        if obj is None:  # class access\n",
    "            return self\n",
    "        else:\n",
    "            new_object = self.klass(obj, *args, **kwargs)\n",
    "            return new_object\n",
    "\n",
    "class Meta(type):\n",
    "    def __new__(cls, name, bases, attrs):\n",
    "        new_attrs={}\n",
    "        for key, value in attrs.items():\n",
    "            if inspect.isclass(value) and issubclass(value, View):\n",
    "                new_attrs[key] = WidgetDescriptor(value)\n",
    "\n",
    "        return super(Meta, cls).__new__(cls, name, bases, new_attrs)\n",
    "\n",
    "class MyWidget(metaclass=Meta):\n",
    "    def __new__(self, *args, **kwargs):\n",
    "        if (args and isinstance(args[0], (Widget))) \\\n",
    "                or ('parent' in kwargs and isinstance(kwargs['parent'], (Widget))):\n",
    "            return super().__new__(cls)\n",
    "        else:\n",
    "            return WidgetDescriptor(cls, *args, **kwargs)\n",
    "        \n",
    "        \n",
    "class MyView:\n",
    "    the_attribute = WidgetDescriptor()\n",
    "    \n",
    "MyView.the_attribute\n",
    "MyView().the_attribute"
   ]
  }
 ],
 "metadata": {
  "celltoolbar": "Slideshow",
  "kernelspec": {
   "display_name": "Python 3",
   "language": "python",
   "name": "python3"
  },
  "language_info": {
   "codemirror_mode": {
    "name": "ipython",
    "version": 3
   },
   "file_extension": ".py",
   "mimetype": "text/x-python",
   "name": "python",
   "nbconvert_exporter": "python",
   "pygments_lexer": "ipython3",
   "version": "3.7.8"
  }
 },
 "nbformat": 4,
 "nbformat_minor": 2
}
